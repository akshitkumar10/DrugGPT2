{
  "nbformat": 4,
  "nbformat_minor": 0,
  "metadata": {
    "colab": {
      "provenance": [],
      "gpuType": "T4"
    },
    "kernelspec": {
      "name": "python3",
      "display_name": "Python 3"
    },
    "language_info": {
      "name": "python"
    },
    "accelerator": "GPU",
    "widgets": {
      "application/vnd.jupyter.widget-state+json": {
        "e03e5a84c5eb4e9e9733a524108209d3": {
          "model_module": "@jupyter-widgets/controls",
          "model_name": "HBoxModel",
          "model_module_version": "1.5.0",
          "state": {
            "_dom_classes": [],
            "_model_module": "@jupyter-widgets/controls",
            "_model_module_version": "1.5.0",
            "_model_name": "HBoxModel",
            "_view_count": null,
            "_view_module": "@jupyter-widgets/controls",
            "_view_module_version": "1.5.0",
            "_view_name": "HBoxView",
            "box_style": "",
            "children": [
              "IPY_MODEL_da5e6d7d06544115a144e9b0f2bf5ef6",
              "IPY_MODEL_9dce4bfe8c814782be54b52ace8a6553",
              "IPY_MODEL_03fc9d4b8df74d38ba8b63ab740a684b"
            ],
            "layout": "IPY_MODEL_1b6f3232f61645e1a3fff114b226a35e"
          }
        },
        "da5e6d7d06544115a144e9b0f2bf5ef6": {
          "model_module": "@jupyter-widgets/controls",
          "model_name": "HTMLModel",
          "model_module_version": "1.5.0",
          "state": {
            "_dom_classes": [],
            "_model_module": "@jupyter-widgets/controls",
            "_model_module_version": "1.5.0",
            "_model_name": "HTMLModel",
            "_view_count": null,
            "_view_module": "@jupyter-widgets/controls",
            "_view_module_version": "1.5.0",
            "_view_name": "HTMLView",
            "description": "",
            "description_tooltip": null,
            "layout": "IPY_MODEL_eeab9fffe3b74582b1efc010c7791ef7",
            "placeholder": "​",
            "style": "IPY_MODEL_b55ed9551ac644c59c6f60efbf48b49d",
            "value": "config.json: 100%"
          }
        },
        "9dce4bfe8c814782be54b52ace8a6553": {
          "model_module": "@jupyter-widgets/controls",
          "model_name": "FloatProgressModel",
          "model_module_version": "1.5.0",
          "state": {
            "_dom_classes": [],
            "_model_module": "@jupyter-widgets/controls",
            "_model_module_version": "1.5.0",
            "_model_name": "FloatProgressModel",
            "_view_count": null,
            "_view_module": "@jupyter-widgets/controls",
            "_view_module_version": "1.5.0",
            "_view_name": "ProgressView",
            "bar_style": "success",
            "description": "",
            "description_tooltip": null,
            "layout": "IPY_MODEL_e52f24ba0ac34a76818fd14dda498b8f",
            "max": 665,
            "min": 0,
            "orientation": "horizontal",
            "style": "IPY_MODEL_b788838c598d4184b61f9008901abafe",
            "value": 665
          }
        },
        "03fc9d4b8df74d38ba8b63ab740a684b": {
          "model_module": "@jupyter-widgets/controls",
          "model_name": "HTMLModel",
          "model_module_version": "1.5.0",
          "state": {
            "_dom_classes": [],
            "_model_module": "@jupyter-widgets/controls",
            "_model_module_version": "1.5.0",
            "_model_name": "HTMLModel",
            "_view_count": null,
            "_view_module": "@jupyter-widgets/controls",
            "_view_module_version": "1.5.0",
            "_view_name": "HTMLView",
            "description": "",
            "description_tooltip": null,
            "layout": "IPY_MODEL_218128ed4c7c4b48875336ad2eb949eb",
            "placeholder": "​",
            "style": "IPY_MODEL_16db26b2f2984312b1c665f582944a0b",
            "value": " 665/665 [00:00&lt;00:00, 11.1kB/s]"
          }
        },
        "1b6f3232f61645e1a3fff114b226a35e": {
          "model_module": "@jupyter-widgets/base",
          "model_name": "LayoutModel",
          "model_module_version": "1.2.0",
          "state": {
            "_model_module": "@jupyter-widgets/base",
            "_model_module_version": "1.2.0",
            "_model_name": "LayoutModel",
            "_view_count": null,
            "_view_module": "@jupyter-widgets/base",
            "_view_module_version": "1.2.0",
            "_view_name": "LayoutView",
            "align_content": null,
            "align_items": null,
            "align_self": null,
            "border": null,
            "bottom": null,
            "display": null,
            "flex": null,
            "flex_flow": null,
            "grid_area": null,
            "grid_auto_columns": null,
            "grid_auto_flow": null,
            "grid_auto_rows": null,
            "grid_column": null,
            "grid_gap": null,
            "grid_row": null,
            "grid_template_areas": null,
            "grid_template_columns": null,
            "grid_template_rows": null,
            "height": null,
            "justify_content": null,
            "justify_items": null,
            "left": null,
            "margin": null,
            "max_height": null,
            "max_width": null,
            "min_height": null,
            "min_width": null,
            "object_fit": null,
            "object_position": null,
            "order": null,
            "overflow": null,
            "overflow_x": null,
            "overflow_y": null,
            "padding": null,
            "right": null,
            "top": null,
            "visibility": null,
            "width": null
          }
        },
        "eeab9fffe3b74582b1efc010c7791ef7": {
          "model_module": "@jupyter-widgets/base",
          "model_name": "LayoutModel",
          "model_module_version": "1.2.0",
          "state": {
            "_model_module": "@jupyter-widgets/base",
            "_model_module_version": "1.2.0",
            "_model_name": "LayoutModel",
            "_view_count": null,
            "_view_module": "@jupyter-widgets/base",
            "_view_module_version": "1.2.0",
            "_view_name": "LayoutView",
            "align_content": null,
            "align_items": null,
            "align_self": null,
            "border": null,
            "bottom": null,
            "display": null,
            "flex": null,
            "flex_flow": null,
            "grid_area": null,
            "grid_auto_columns": null,
            "grid_auto_flow": null,
            "grid_auto_rows": null,
            "grid_column": null,
            "grid_gap": null,
            "grid_row": null,
            "grid_template_areas": null,
            "grid_template_columns": null,
            "grid_template_rows": null,
            "height": null,
            "justify_content": null,
            "justify_items": null,
            "left": null,
            "margin": null,
            "max_height": null,
            "max_width": null,
            "min_height": null,
            "min_width": null,
            "object_fit": null,
            "object_position": null,
            "order": null,
            "overflow": null,
            "overflow_x": null,
            "overflow_y": null,
            "padding": null,
            "right": null,
            "top": null,
            "visibility": null,
            "width": null
          }
        },
        "b55ed9551ac644c59c6f60efbf48b49d": {
          "model_module": "@jupyter-widgets/controls",
          "model_name": "DescriptionStyleModel",
          "model_module_version": "1.5.0",
          "state": {
            "_model_module": "@jupyter-widgets/controls",
            "_model_module_version": "1.5.0",
            "_model_name": "DescriptionStyleModel",
            "_view_count": null,
            "_view_module": "@jupyter-widgets/base",
            "_view_module_version": "1.2.0",
            "_view_name": "StyleView",
            "description_width": ""
          }
        },
        "e52f24ba0ac34a76818fd14dda498b8f": {
          "model_module": "@jupyter-widgets/base",
          "model_name": "LayoutModel",
          "model_module_version": "1.2.0",
          "state": {
            "_model_module": "@jupyter-widgets/base",
            "_model_module_version": "1.2.0",
            "_model_name": "LayoutModel",
            "_view_count": null,
            "_view_module": "@jupyter-widgets/base",
            "_view_module_version": "1.2.0",
            "_view_name": "LayoutView",
            "align_content": null,
            "align_items": null,
            "align_self": null,
            "border": null,
            "bottom": null,
            "display": null,
            "flex": null,
            "flex_flow": null,
            "grid_area": null,
            "grid_auto_columns": null,
            "grid_auto_flow": null,
            "grid_auto_rows": null,
            "grid_column": null,
            "grid_gap": null,
            "grid_row": null,
            "grid_template_areas": null,
            "grid_template_columns": null,
            "grid_template_rows": null,
            "height": null,
            "justify_content": null,
            "justify_items": null,
            "left": null,
            "margin": null,
            "max_height": null,
            "max_width": null,
            "min_height": null,
            "min_width": null,
            "object_fit": null,
            "object_position": null,
            "order": null,
            "overflow": null,
            "overflow_x": null,
            "overflow_y": null,
            "padding": null,
            "right": null,
            "top": null,
            "visibility": null,
            "width": null
          }
        },
        "b788838c598d4184b61f9008901abafe": {
          "model_module": "@jupyter-widgets/controls",
          "model_name": "ProgressStyleModel",
          "model_module_version": "1.5.0",
          "state": {
            "_model_module": "@jupyter-widgets/controls",
            "_model_module_version": "1.5.0",
            "_model_name": "ProgressStyleModel",
            "_view_count": null,
            "_view_module": "@jupyter-widgets/base",
            "_view_module_version": "1.2.0",
            "_view_name": "StyleView",
            "bar_color": null,
            "description_width": ""
          }
        },
        "218128ed4c7c4b48875336ad2eb949eb": {
          "model_module": "@jupyter-widgets/base",
          "model_name": "LayoutModel",
          "model_module_version": "1.2.0",
          "state": {
            "_model_module": "@jupyter-widgets/base",
            "_model_module_version": "1.2.0",
            "_model_name": "LayoutModel",
            "_view_count": null,
            "_view_module": "@jupyter-widgets/base",
            "_view_module_version": "1.2.0",
            "_view_name": "LayoutView",
            "align_content": null,
            "align_items": null,
            "align_self": null,
            "border": null,
            "bottom": null,
            "display": null,
            "flex": null,
            "flex_flow": null,
            "grid_area": null,
            "grid_auto_columns": null,
            "grid_auto_flow": null,
            "grid_auto_rows": null,
            "grid_column": null,
            "grid_gap": null,
            "grid_row": null,
            "grid_template_areas": null,
            "grid_template_columns": null,
            "grid_template_rows": null,
            "height": null,
            "justify_content": null,
            "justify_items": null,
            "left": null,
            "margin": null,
            "max_height": null,
            "max_width": null,
            "min_height": null,
            "min_width": null,
            "object_fit": null,
            "object_position": null,
            "order": null,
            "overflow": null,
            "overflow_x": null,
            "overflow_y": null,
            "padding": null,
            "right": null,
            "top": null,
            "visibility": null,
            "width": null
          }
        },
        "16db26b2f2984312b1c665f582944a0b": {
          "model_module": "@jupyter-widgets/controls",
          "model_name": "DescriptionStyleModel",
          "model_module_version": "1.5.0",
          "state": {
            "_model_module": "@jupyter-widgets/controls",
            "_model_module_version": "1.5.0",
            "_model_name": "DescriptionStyleModel",
            "_view_count": null,
            "_view_module": "@jupyter-widgets/base",
            "_view_module_version": "1.2.0",
            "_view_name": "StyleView",
            "description_width": ""
          }
        },
        "31ce725827a142ccbb834ae82f6632c6": {
          "model_module": "@jupyter-widgets/controls",
          "model_name": "HBoxModel",
          "model_module_version": "1.5.0",
          "state": {
            "_dom_classes": [],
            "_model_module": "@jupyter-widgets/controls",
            "_model_module_version": "1.5.0",
            "_model_name": "HBoxModel",
            "_view_count": null,
            "_view_module": "@jupyter-widgets/controls",
            "_view_module_version": "1.5.0",
            "_view_name": "HBoxView",
            "box_style": "",
            "children": [
              "IPY_MODEL_48d97f8634874dca93c77ad7dc628f8b",
              "IPY_MODEL_afca848ea6134274a5f794450f29d0b1",
              "IPY_MODEL_7d61d782a7e7468ba5e443e0c7c54408"
            ],
            "layout": "IPY_MODEL_9ccdf203abfb4bef81496d0fca05d2e9"
          }
        },
        "48d97f8634874dca93c77ad7dc628f8b": {
          "model_module": "@jupyter-widgets/controls",
          "model_name": "HTMLModel",
          "model_module_version": "1.5.0",
          "state": {
            "_dom_classes": [],
            "_model_module": "@jupyter-widgets/controls",
            "_model_module_version": "1.5.0",
            "_model_name": "HTMLModel",
            "_view_count": null,
            "_view_module": "@jupyter-widgets/controls",
            "_view_module_version": "1.5.0",
            "_view_name": "HTMLView",
            "description": "",
            "description_tooltip": null,
            "layout": "IPY_MODEL_f6e8d462434642a68831955765376400",
            "placeholder": "​",
            "style": "IPY_MODEL_2a1bfdd75ba549e6a460da750580cee5",
            "value": "model.safetensors: 100%"
          }
        },
        "afca848ea6134274a5f794450f29d0b1": {
          "model_module": "@jupyter-widgets/controls",
          "model_name": "FloatProgressModel",
          "model_module_version": "1.5.0",
          "state": {
            "_dom_classes": [],
            "_model_module": "@jupyter-widgets/controls",
            "_model_module_version": "1.5.0",
            "_model_name": "FloatProgressModel",
            "_view_count": null,
            "_view_module": "@jupyter-widgets/controls",
            "_view_module_version": "1.5.0",
            "_view_name": "ProgressView",
            "bar_style": "success",
            "description": "",
            "description_tooltip": null,
            "layout": "IPY_MODEL_d4198e7550444a4bad54a78f0d098619",
            "max": 548105171,
            "min": 0,
            "orientation": "horizontal",
            "style": "IPY_MODEL_698e4a08ff4741cbb0546b169b2c3cd6",
            "value": 548105171
          }
        },
        "7d61d782a7e7468ba5e443e0c7c54408": {
          "model_module": "@jupyter-widgets/controls",
          "model_name": "HTMLModel",
          "model_module_version": "1.5.0",
          "state": {
            "_dom_classes": [],
            "_model_module": "@jupyter-widgets/controls",
            "_model_module_version": "1.5.0",
            "_model_name": "HTMLModel",
            "_view_count": null,
            "_view_module": "@jupyter-widgets/controls",
            "_view_module_version": "1.5.0",
            "_view_name": "HTMLView",
            "description": "",
            "description_tooltip": null,
            "layout": "IPY_MODEL_0cf395c2d2064e3995c9ed407f2ab84c",
            "placeholder": "​",
            "style": "IPY_MODEL_a383361b2bd34d0f8a9317454280ba43",
            "value": " 548M/548M [00:04&lt;00:00, 95.0MB/s]"
          }
        },
        "9ccdf203abfb4bef81496d0fca05d2e9": {
          "model_module": "@jupyter-widgets/base",
          "model_name": "LayoutModel",
          "model_module_version": "1.2.0",
          "state": {
            "_model_module": "@jupyter-widgets/base",
            "_model_module_version": "1.2.0",
            "_model_name": "LayoutModel",
            "_view_count": null,
            "_view_module": "@jupyter-widgets/base",
            "_view_module_version": "1.2.0",
            "_view_name": "LayoutView",
            "align_content": null,
            "align_items": null,
            "align_self": null,
            "border": null,
            "bottom": null,
            "display": null,
            "flex": null,
            "flex_flow": null,
            "grid_area": null,
            "grid_auto_columns": null,
            "grid_auto_flow": null,
            "grid_auto_rows": null,
            "grid_column": null,
            "grid_gap": null,
            "grid_row": null,
            "grid_template_areas": null,
            "grid_template_columns": null,
            "grid_template_rows": null,
            "height": null,
            "justify_content": null,
            "justify_items": null,
            "left": null,
            "margin": null,
            "max_height": null,
            "max_width": null,
            "min_height": null,
            "min_width": null,
            "object_fit": null,
            "object_position": null,
            "order": null,
            "overflow": null,
            "overflow_x": null,
            "overflow_y": null,
            "padding": null,
            "right": null,
            "top": null,
            "visibility": null,
            "width": null
          }
        },
        "f6e8d462434642a68831955765376400": {
          "model_module": "@jupyter-widgets/base",
          "model_name": "LayoutModel",
          "model_module_version": "1.2.0",
          "state": {
            "_model_module": "@jupyter-widgets/base",
            "_model_module_version": "1.2.0",
            "_model_name": "LayoutModel",
            "_view_count": null,
            "_view_module": "@jupyter-widgets/base",
            "_view_module_version": "1.2.0",
            "_view_name": "LayoutView",
            "align_content": null,
            "align_items": null,
            "align_self": null,
            "border": null,
            "bottom": null,
            "display": null,
            "flex": null,
            "flex_flow": null,
            "grid_area": null,
            "grid_auto_columns": null,
            "grid_auto_flow": null,
            "grid_auto_rows": null,
            "grid_column": null,
            "grid_gap": null,
            "grid_row": null,
            "grid_template_areas": null,
            "grid_template_columns": null,
            "grid_template_rows": null,
            "height": null,
            "justify_content": null,
            "justify_items": null,
            "left": null,
            "margin": null,
            "max_height": null,
            "max_width": null,
            "min_height": null,
            "min_width": null,
            "object_fit": null,
            "object_position": null,
            "order": null,
            "overflow": null,
            "overflow_x": null,
            "overflow_y": null,
            "padding": null,
            "right": null,
            "top": null,
            "visibility": null,
            "width": null
          }
        },
        "2a1bfdd75ba549e6a460da750580cee5": {
          "model_module": "@jupyter-widgets/controls",
          "model_name": "DescriptionStyleModel",
          "model_module_version": "1.5.0",
          "state": {
            "_model_module": "@jupyter-widgets/controls",
            "_model_module_version": "1.5.0",
            "_model_name": "DescriptionStyleModel",
            "_view_count": null,
            "_view_module": "@jupyter-widgets/base",
            "_view_module_version": "1.2.0",
            "_view_name": "StyleView",
            "description_width": ""
          }
        },
        "d4198e7550444a4bad54a78f0d098619": {
          "model_module": "@jupyter-widgets/base",
          "model_name": "LayoutModel",
          "model_module_version": "1.2.0",
          "state": {
            "_model_module": "@jupyter-widgets/base",
            "_model_module_version": "1.2.0",
            "_model_name": "LayoutModel",
            "_view_count": null,
            "_view_module": "@jupyter-widgets/base",
            "_view_module_version": "1.2.0",
            "_view_name": "LayoutView",
            "align_content": null,
            "align_items": null,
            "align_self": null,
            "border": null,
            "bottom": null,
            "display": null,
            "flex": null,
            "flex_flow": null,
            "grid_area": null,
            "grid_auto_columns": null,
            "grid_auto_flow": null,
            "grid_auto_rows": null,
            "grid_column": null,
            "grid_gap": null,
            "grid_row": null,
            "grid_template_areas": null,
            "grid_template_columns": null,
            "grid_template_rows": null,
            "height": null,
            "justify_content": null,
            "justify_items": null,
            "left": null,
            "margin": null,
            "max_height": null,
            "max_width": null,
            "min_height": null,
            "min_width": null,
            "object_fit": null,
            "object_position": null,
            "order": null,
            "overflow": null,
            "overflow_x": null,
            "overflow_y": null,
            "padding": null,
            "right": null,
            "top": null,
            "visibility": null,
            "width": null
          }
        },
        "698e4a08ff4741cbb0546b169b2c3cd6": {
          "model_module": "@jupyter-widgets/controls",
          "model_name": "ProgressStyleModel",
          "model_module_version": "1.5.0",
          "state": {
            "_model_module": "@jupyter-widgets/controls",
            "_model_module_version": "1.5.0",
            "_model_name": "ProgressStyleModel",
            "_view_count": null,
            "_view_module": "@jupyter-widgets/base",
            "_view_module_version": "1.2.0",
            "_view_name": "StyleView",
            "bar_color": null,
            "description_width": ""
          }
        },
        "0cf395c2d2064e3995c9ed407f2ab84c": {
          "model_module": "@jupyter-widgets/base",
          "model_name": "LayoutModel",
          "model_module_version": "1.2.0",
          "state": {
            "_model_module": "@jupyter-widgets/base",
            "_model_module_version": "1.2.0",
            "_model_name": "LayoutModel",
            "_view_count": null,
            "_view_module": "@jupyter-widgets/base",
            "_view_module_version": "1.2.0",
            "_view_name": "LayoutView",
            "align_content": null,
            "align_items": null,
            "align_self": null,
            "border": null,
            "bottom": null,
            "display": null,
            "flex": null,
            "flex_flow": null,
            "grid_area": null,
            "grid_auto_columns": null,
            "grid_auto_flow": null,
            "grid_auto_rows": null,
            "grid_column": null,
            "grid_gap": null,
            "grid_row": null,
            "grid_template_areas": null,
            "grid_template_columns": null,
            "grid_template_rows": null,
            "height": null,
            "justify_content": null,
            "justify_items": null,
            "left": null,
            "margin": null,
            "max_height": null,
            "max_width": null,
            "min_height": null,
            "min_width": null,
            "object_fit": null,
            "object_position": null,
            "order": null,
            "overflow": null,
            "overflow_x": null,
            "overflow_y": null,
            "padding": null,
            "right": null,
            "top": null,
            "visibility": null,
            "width": null
          }
        },
        "a383361b2bd34d0f8a9317454280ba43": {
          "model_module": "@jupyter-widgets/controls",
          "model_name": "DescriptionStyleModel",
          "model_module_version": "1.5.0",
          "state": {
            "_model_module": "@jupyter-widgets/controls",
            "_model_module_version": "1.5.0",
            "_model_name": "DescriptionStyleModel",
            "_view_count": null,
            "_view_module": "@jupyter-widgets/base",
            "_view_module_version": "1.2.0",
            "_view_name": "StyleView",
            "description_width": ""
          }
        },
        "cb4645c3842e40adae43ed25e67ca678": {
          "model_module": "@jupyter-widgets/controls",
          "model_name": "HBoxModel",
          "model_module_version": "1.5.0",
          "state": {
            "_dom_classes": [],
            "_model_module": "@jupyter-widgets/controls",
            "_model_module_version": "1.5.0",
            "_model_name": "HBoxModel",
            "_view_count": null,
            "_view_module": "@jupyter-widgets/controls",
            "_view_module_version": "1.5.0",
            "_view_name": "HBoxView",
            "box_style": "",
            "children": [
              "IPY_MODEL_e5250ff1fb164380a5b6982156b042be",
              "IPY_MODEL_54e5cef775e44e458dd381d790681761",
              "IPY_MODEL_4782e0b1e5264d6b901ba1b33ec304ec"
            ],
            "layout": "IPY_MODEL_7891fb30429f447381f4e3d994c2c9df"
          }
        },
        "e5250ff1fb164380a5b6982156b042be": {
          "model_module": "@jupyter-widgets/controls",
          "model_name": "HTMLModel",
          "model_module_version": "1.5.0",
          "state": {
            "_dom_classes": [],
            "_model_module": "@jupyter-widgets/controls",
            "_model_module_version": "1.5.0",
            "_model_name": "HTMLModel",
            "_view_count": null,
            "_view_module": "@jupyter-widgets/controls",
            "_view_module_version": "1.5.0",
            "_view_name": "HTMLView",
            "description": "",
            "description_tooltip": null,
            "layout": "IPY_MODEL_e25f5d64f8264f22b5d0d4197649b3b2",
            "placeholder": "​",
            "style": "IPY_MODEL_0c09c0e2aec3425a8fb64bdf6fda45a9",
            "value": "generation_config.json: 100%"
          }
        },
        "54e5cef775e44e458dd381d790681761": {
          "model_module": "@jupyter-widgets/controls",
          "model_name": "FloatProgressModel",
          "model_module_version": "1.5.0",
          "state": {
            "_dom_classes": [],
            "_model_module": "@jupyter-widgets/controls",
            "_model_module_version": "1.5.0",
            "_model_name": "FloatProgressModel",
            "_view_count": null,
            "_view_module": "@jupyter-widgets/controls",
            "_view_module_version": "1.5.0",
            "_view_name": "ProgressView",
            "bar_style": "success",
            "description": "",
            "description_tooltip": null,
            "layout": "IPY_MODEL_0c4a682c316b49738e2b044b62efdb50",
            "max": 124,
            "min": 0,
            "orientation": "horizontal",
            "style": "IPY_MODEL_902af795efcd4a118641aecbb6170fe6",
            "value": 124
          }
        },
        "4782e0b1e5264d6b901ba1b33ec304ec": {
          "model_module": "@jupyter-widgets/controls",
          "model_name": "HTMLModel",
          "model_module_version": "1.5.0",
          "state": {
            "_dom_classes": [],
            "_model_module": "@jupyter-widgets/controls",
            "_model_module_version": "1.5.0",
            "_model_name": "HTMLModel",
            "_view_count": null,
            "_view_module": "@jupyter-widgets/controls",
            "_view_module_version": "1.5.0",
            "_view_name": "HTMLView",
            "description": "",
            "description_tooltip": null,
            "layout": "IPY_MODEL_06c1118bf789410cb0b92c6dd7ce8f1f",
            "placeholder": "​",
            "style": "IPY_MODEL_850cc69c37a741ca9e4a17314b0f808f",
            "value": " 124/124 [00:00&lt;00:00, 2.18kB/s]"
          }
        },
        "7891fb30429f447381f4e3d994c2c9df": {
          "model_module": "@jupyter-widgets/base",
          "model_name": "LayoutModel",
          "model_module_version": "1.2.0",
          "state": {
            "_model_module": "@jupyter-widgets/base",
            "_model_module_version": "1.2.0",
            "_model_name": "LayoutModel",
            "_view_count": null,
            "_view_module": "@jupyter-widgets/base",
            "_view_module_version": "1.2.0",
            "_view_name": "LayoutView",
            "align_content": null,
            "align_items": null,
            "align_self": null,
            "border": null,
            "bottom": null,
            "display": null,
            "flex": null,
            "flex_flow": null,
            "grid_area": null,
            "grid_auto_columns": null,
            "grid_auto_flow": null,
            "grid_auto_rows": null,
            "grid_column": null,
            "grid_gap": null,
            "grid_row": null,
            "grid_template_areas": null,
            "grid_template_columns": null,
            "grid_template_rows": null,
            "height": null,
            "justify_content": null,
            "justify_items": null,
            "left": null,
            "margin": null,
            "max_height": null,
            "max_width": null,
            "min_height": null,
            "min_width": null,
            "object_fit": null,
            "object_position": null,
            "order": null,
            "overflow": null,
            "overflow_x": null,
            "overflow_y": null,
            "padding": null,
            "right": null,
            "top": null,
            "visibility": null,
            "width": null
          }
        },
        "e25f5d64f8264f22b5d0d4197649b3b2": {
          "model_module": "@jupyter-widgets/base",
          "model_name": "LayoutModel",
          "model_module_version": "1.2.0",
          "state": {
            "_model_module": "@jupyter-widgets/base",
            "_model_module_version": "1.2.0",
            "_model_name": "LayoutModel",
            "_view_count": null,
            "_view_module": "@jupyter-widgets/base",
            "_view_module_version": "1.2.0",
            "_view_name": "LayoutView",
            "align_content": null,
            "align_items": null,
            "align_self": null,
            "border": null,
            "bottom": null,
            "display": null,
            "flex": null,
            "flex_flow": null,
            "grid_area": null,
            "grid_auto_columns": null,
            "grid_auto_flow": null,
            "grid_auto_rows": null,
            "grid_column": null,
            "grid_gap": null,
            "grid_row": null,
            "grid_template_areas": null,
            "grid_template_columns": null,
            "grid_template_rows": null,
            "height": null,
            "justify_content": null,
            "justify_items": null,
            "left": null,
            "margin": null,
            "max_height": null,
            "max_width": null,
            "min_height": null,
            "min_width": null,
            "object_fit": null,
            "object_position": null,
            "order": null,
            "overflow": null,
            "overflow_x": null,
            "overflow_y": null,
            "padding": null,
            "right": null,
            "top": null,
            "visibility": null,
            "width": null
          }
        },
        "0c09c0e2aec3425a8fb64bdf6fda45a9": {
          "model_module": "@jupyter-widgets/controls",
          "model_name": "DescriptionStyleModel",
          "model_module_version": "1.5.0",
          "state": {
            "_model_module": "@jupyter-widgets/controls",
            "_model_module_version": "1.5.0",
            "_model_name": "DescriptionStyleModel",
            "_view_count": null,
            "_view_module": "@jupyter-widgets/base",
            "_view_module_version": "1.2.0",
            "_view_name": "StyleView",
            "description_width": ""
          }
        },
        "0c4a682c316b49738e2b044b62efdb50": {
          "model_module": "@jupyter-widgets/base",
          "model_name": "LayoutModel",
          "model_module_version": "1.2.0",
          "state": {
            "_model_module": "@jupyter-widgets/base",
            "_model_module_version": "1.2.0",
            "_model_name": "LayoutModel",
            "_view_count": null,
            "_view_module": "@jupyter-widgets/base",
            "_view_module_version": "1.2.0",
            "_view_name": "LayoutView",
            "align_content": null,
            "align_items": null,
            "align_self": null,
            "border": null,
            "bottom": null,
            "display": null,
            "flex": null,
            "flex_flow": null,
            "grid_area": null,
            "grid_auto_columns": null,
            "grid_auto_flow": null,
            "grid_auto_rows": null,
            "grid_column": null,
            "grid_gap": null,
            "grid_row": null,
            "grid_template_areas": null,
            "grid_template_columns": null,
            "grid_template_rows": null,
            "height": null,
            "justify_content": null,
            "justify_items": null,
            "left": null,
            "margin": null,
            "max_height": null,
            "max_width": null,
            "min_height": null,
            "min_width": null,
            "object_fit": null,
            "object_position": null,
            "order": null,
            "overflow": null,
            "overflow_x": null,
            "overflow_y": null,
            "padding": null,
            "right": null,
            "top": null,
            "visibility": null,
            "width": null
          }
        },
        "902af795efcd4a118641aecbb6170fe6": {
          "model_module": "@jupyter-widgets/controls",
          "model_name": "ProgressStyleModel",
          "model_module_version": "1.5.0",
          "state": {
            "_model_module": "@jupyter-widgets/controls",
            "_model_module_version": "1.5.0",
            "_model_name": "ProgressStyleModel",
            "_view_count": null,
            "_view_module": "@jupyter-widgets/base",
            "_view_module_version": "1.2.0",
            "_view_name": "StyleView",
            "bar_color": null,
            "description_width": ""
          }
        },
        "06c1118bf789410cb0b92c6dd7ce8f1f": {
          "model_module": "@jupyter-widgets/base",
          "model_name": "LayoutModel",
          "model_module_version": "1.2.0",
          "state": {
            "_model_module": "@jupyter-widgets/base",
            "_model_module_version": "1.2.0",
            "_model_name": "LayoutModel",
            "_view_count": null,
            "_view_module": "@jupyter-widgets/base",
            "_view_module_version": "1.2.0",
            "_view_name": "LayoutView",
            "align_content": null,
            "align_items": null,
            "align_self": null,
            "border": null,
            "bottom": null,
            "display": null,
            "flex": null,
            "flex_flow": null,
            "grid_area": null,
            "grid_auto_columns": null,
            "grid_auto_flow": null,
            "grid_auto_rows": null,
            "grid_column": null,
            "grid_gap": null,
            "grid_row": null,
            "grid_template_areas": null,
            "grid_template_columns": null,
            "grid_template_rows": null,
            "height": null,
            "justify_content": null,
            "justify_items": null,
            "left": null,
            "margin": null,
            "max_height": null,
            "max_width": null,
            "min_height": null,
            "min_width": null,
            "object_fit": null,
            "object_position": null,
            "order": null,
            "overflow": null,
            "overflow_x": null,
            "overflow_y": null,
            "padding": null,
            "right": null,
            "top": null,
            "visibility": null,
            "width": null
          }
        },
        "850cc69c37a741ca9e4a17314b0f808f": {
          "model_module": "@jupyter-widgets/controls",
          "model_name": "DescriptionStyleModel",
          "model_module_version": "1.5.0",
          "state": {
            "_model_module": "@jupyter-widgets/controls",
            "_model_module_version": "1.5.0",
            "_model_name": "DescriptionStyleModel",
            "_view_count": null,
            "_view_module": "@jupyter-widgets/base",
            "_view_module_version": "1.2.0",
            "_view_name": "StyleView",
            "description_width": ""
          }
        },
        "62542efd37e14847b79699ad6be7cbb4": {
          "model_module": "@jupyter-widgets/controls",
          "model_name": "HBoxModel",
          "model_module_version": "1.5.0",
          "state": {
            "_dom_classes": [],
            "_model_module": "@jupyter-widgets/controls",
            "_model_module_version": "1.5.0",
            "_model_name": "HBoxModel",
            "_view_count": null,
            "_view_module": "@jupyter-widgets/controls",
            "_view_module_version": "1.5.0",
            "_view_name": "HBoxView",
            "box_style": "",
            "children": [
              "IPY_MODEL_37ca75e64f2a4003bd80605dadc41a68",
              "IPY_MODEL_35876f0e947746b08af769da4ceaf848",
              "IPY_MODEL_f3af38e36aab4d1aa91761698813f74a"
            ],
            "layout": "IPY_MODEL_ea46423e34d74ecebd72b5f02c4787ce"
          }
        },
        "37ca75e64f2a4003bd80605dadc41a68": {
          "model_module": "@jupyter-widgets/controls",
          "model_name": "HTMLModel",
          "model_module_version": "1.5.0",
          "state": {
            "_dom_classes": [],
            "_model_module": "@jupyter-widgets/controls",
            "_model_module_version": "1.5.0",
            "_model_name": "HTMLModel",
            "_view_count": null,
            "_view_module": "@jupyter-widgets/controls",
            "_view_module_version": "1.5.0",
            "_view_name": "HTMLView",
            "description": "",
            "description_tooltip": null,
            "layout": "IPY_MODEL_537530051ac641b3bc2cf35fd5cabfda",
            "placeholder": "​",
            "style": "IPY_MODEL_f9f1b94a7903475bbcb38820ebb39b4b",
            "value": "tokenizer_config.json: 100%"
          }
        },
        "35876f0e947746b08af769da4ceaf848": {
          "model_module": "@jupyter-widgets/controls",
          "model_name": "FloatProgressModel",
          "model_module_version": "1.5.0",
          "state": {
            "_dom_classes": [],
            "_model_module": "@jupyter-widgets/controls",
            "_model_module_version": "1.5.0",
            "_model_name": "FloatProgressModel",
            "_view_count": null,
            "_view_module": "@jupyter-widgets/controls",
            "_view_module_version": "1.5.0",
            "_view_name": "ProgressView",
            "bar_style": "success",
            "description": "",
            "description_tooltip": null,
            "layout": "IPY_MODEL_2bba356bb11a42a7a55d02ef355ee54e",
            "max": 26,
            "min": 0,
            "orientation": "horizontal",
            "style": "IPY_MODEL_f453b4ae8fc440d6b7f15faf8e22e281",
            "value": 26
          }
        },
        "f3af38e36aab4d1aa91761698813f74a": {
          "model_module": "@jupyter-widgets/controls",
          "model_name": "HTMLModel",
          "model_module_version": "1.5.0",
          "state": {
            "_dom_classes": [],
            "_model_module": "@jupyter-widgets/controls",
            "_model_module_version": "1.5.0",
            "_model_name": "HTMLModel",
            "_view_count": null,
            "_view_module": "@jupyter-widgets/controls",
            "_view_module_version": "1.5.0",
            "_view_name": "HTMLView",
            "description": "",
            "description_tooltip": null,
            "layout": "IPY_MODEL_1b7095b8da3a43729de3d59b77c8141a",
            "placeholder": "​",
            "style": "IPY_MODEL_94f3c2b9ec0d46ae9476b95b881e873e",
            "value": " 26.0/26.0 [00:00&lt;00:00, 635B/s]"
          }
        },
        "ea46423e34d74ecebd72b5f02c4787ce": {
          "model_module": "@jupyter-widgets/base",
          "model_name": "LayoutModel",
          "model_module_version": "1.2.0",
          "state": {
            "_model_module": "@jupyter-widgets/base",
            "_model_module_version": "1.2.0",
            "_model_name": "LayoutModel",
            "_view_count": null,
            "_view_module": "@jupyter-widgets/base",
            "_view_module_version": "1.2.0",
            "_view_name": "LayoutView",
            "align_content": null,
            "align_items": null,
            "align_self": null,
            "border": null,
            "bottom": null,
            "display": null,
            "flex": null,
            "flex_flow": null,
            "grid_area": null,
            "grid_auto_columns": null,
            "grid_auto_flow": null,
            "grid_auto_rows": null,
            "grid_column": null,
            "grid_gap": null,
            "grid_row": null,
            "grid_template_areas": null,
            "grid_template_columns": null,
            "grid_template_rows": null,
            "height": null,
            "justify_content": null,
            "justify_items": null,
            "left": null,
            "margin": null,
            "max_height": null,
            "max_width": null,
            "min_height": null,
            "min_width": null,
            "object_fit": null,
            "object_position": null,
            "order": null,
            "overflow": null,
            "overflow_x": null,
            "overflow_y": null,
            "padding": null,
            "right": null,
            "top": null,
            "visibility": null,
            "width": null
          }
        },
        "537530051ac641b3bc2cf35fd5cabfda": {
          "model_module": "@jupyter-widgets/base",
          "model_name": "LayoutModel",
          "model_module_version": "1.2.0",
          "state": {
            "_model_module": "@jupyter-widgets/base",
            "_model_module_version": "1.2.0",
            "_model_name": "LayoutModel",
            "_view_count": null,
            "_view_module": "@jupyter-widgets/base",
            "_view_module_version": "1.2.0",
            "_view_name": "LayoutView",
            "align_content": null,
            "align_items": null,
            "align_self": null,
            "border": null,
            "bottom": null,
            "display": null,
            "flex": null,
            "flex_flow": null,
            "grid_area": null,
            "grid_auto_columns": null,
            "grid_auto_flow": null,
            "grid_auto_rows": null,
            "grid_column": null,
            "grid_gap": null,
            "grid_row": null,
            "grid_template_areas": null,
            "grid_template_columns": null,
            "grid_template_rows": null,
            "height": null,
            "justify_content": null,
            "justify_items": null,
            "left": null,
            "margin": null,
            "max_height": null,
            "max_width": null,
            "min_height": null,
            "min_width": null,
            "object_fit": null,
            "object_position": null,
            "order": null,
            "overflow": null,
            "overflow_x": null,
            "overflow_y": null,
            "padding": null,
            "right": null,
            "top": null,
            "visibility": null,
            "width": null
          }
        },
        "f9f1b94a7903475bbcb38820ebb39b4b": {
          "model_module": "@jupyter-widgets/controls",
          "model_name": "DescriptionStyleModel",
          "model_module_version": "1.5.0",
          "state": {
            "_model_module": "@jupyter-widgets/controls",
            "_model_module_version": "1.5.0",
            "_model_name": "DescriptionStyleModel",
            "_view_count": null,
            "_view_module": "@jupyter-widgets/base",
            "_view_module_version": "1.2.0",
            "_view_name": "StyleView",
            "description_width": ""
          }
        },
        "2bba356bb11a42a7a55d02ef355ee54e": {
          "model_module": "@jupyter-widgets/base",
          "model_name": "LayoutModel",
          "model_module_version": "1.2.0",
          "state": {
            "_model_module": "@jupyter-widgets/base",
            "_model_module_version": "1.2.0",
            "_model_name": "LayoutModel",
            "_view_count": null,
            "_view_module": "@jupyter-widgets/base",
            "_view_module_version": "1.2.0",
            "_view_name": "LayoutView",
            "align_content": null,
            "align_items": null,
            "align_self": null,
            "border": null,
            "bottom": null,
            "display": null,
            "flex": null,
            "flex_flow": null,
            "grid_area": null,
            "grid_auto_columns": null,
            "grid_auto_flow": null,
            "grid_auto_rows": null,
            "grid_column": null,
            "grid_gap": null,
            "grid_row": null,
            "grid_template_areas": null,
            "grid_template_columns": null,
            "grid_template_rows": null,
            "height": null,
            "justify_content": null,
            "justify_items": null,
            "left": null,
            "margin": null,
            "max_height": null,
            "max_width": null,
            "min_height": null,
            "min_width": null,
            "object_fit": null,
            "object_position": null,
            "order": null,
            "overflow": null,
            "overflow_x": null,
            "overflow_y": null,
            "padding": null,
            "right": null,
            "top": null,
            "visibility": null,
            "width": null
          }
        },
        "f453b4ae8fc440d6b7f15faf8e22e281": {
          "model_module": "@jupyter-widgets/controls",
          "model_name": "ProgressStyleModel",
          "model_module_version": "1.5.0",
          "state": {
            "_model_module": "@jupyter-widgets/controls",
            "_model_module_version": "1.5.0",
            "_model_name": "ProgressStyleModel",
            "_view_count": null,
            "_view_module": "@jupyter-widgets/base",
            "_view_module_version": "1.2.0",
            "_view_name": "StyleView",
            "bar_color": null,
            "description_width": ""
          }
        },
        "1b7095b8da3a43729de3d59b77c8141a": {
          "model_module": "@jupyter-widgets/base",
          "model_name": "LayoutModel",
          "model_module_version": "1.2.0",
          "state": {
            "_model_module": "@jupyter-widgets/base",
            "_model_module_version": "1.2.0",
            "_model_name": "LayoutModel",
            "_view_count": null,
            "_view_module": "@jupyter-widgets/base",
            "_view_module_version": "1.2.0",
            "_view_name": "LayoutView",
            "align_content": null,
            "align_items": null,
            "align_self": null,
            "border": null,
            "bottom": null,
            "display": null,
            "flex": null,
            "flex_flow": null,
            "grid_area": null,
            "grid_auto_columns": null,
            "grid_auto_flow": null,
            "grid_auto_rows": null,
            "grid_column": null,
            "grid_gap": null,
            "grid_row": null,
            "grid_template_areas": null,
            "grid_template_columns": null,
            "grid_template_rows": null,
            "height": null,
            "justify_content": null,
            "justify_items": null,
            "left": null,
            "margin": null,
            "max_height": null,
            "max_width": null,
            "min_height": null,
            "min_width": null,
            "object_fit": null,
            "object_position": null,
            "order": null,
            "overflow": null,
            "overflow_x": null,
            "overflow_y": null,
            "padding": null,
            "right": null,
            "top": null,
            "visibility": null,
            "width": null
          }
        },
        "94f3c2b9ec0d46ae9476b95b881e873e": {
          "model_module": "@jupyter-widgets/controls",
          "model_name": "DescriptionStyleModel",
          "model_module_version": "1.5.0",
          "state": {
            "_model_module": "@jupyter-widgets/controls",
            "_model_module_version": "1.5.0",
            "_model_name": "DescriptionStyleModel",
            "_view_count": null,
            "_view_module": "@jupyter-widgets/base",
            "_view_module_version": "1.2.0",
            "_view_name": "StyleView",
            "description_width": ""
          }
        },
        "6ef63395d470484c909af6477c3cb33f": {
          "model_module": "@jupyter-widgets/controls",
          "model_name": "HBoxModel",
          "model_module_version": "1.5.0",
          "state": {
            "_dom_classes": [],
            "_model_module": "@jupyter-widgets/controls",
            "_model_module_version": "1.5.0",
            "_model_name": "HBoxModel",
            "_view_count": null,
            "_view_module": "@jupyter-widgets/controls",
            "_view_module_version": "1.5.0",
            "_view_name": "HBoxView",
            "box_style": "",
            "children": [
              "IPY_MODEL_bebbb201f9f54edd82506d85902245b7",
              "IPY_MODEL_a0af5f77904943c08d51cdd0559086ba",
              "IPY_MODEL_0d88278f29cf4b32a0e0c155f934220f"
            ],
            "layout": "IPY_MODEL_eed8cda585334ac2be8e457d63bd5996"
          }
        },
        "bebbb201f9f54edd82506d85902245b7": {
          "model_module": "@jupyter-widgets/controls",
          "model_name": "HTMLModel",
          "model_module_version": "1.5.0",
          "state": {
            "_dom_classes": [],
            "_model_module": "@jupyter-widgets/controls",
            "_model_module_version": "1.5.0",
            "_model_name": "HTMLModel",
            "_view_count": null,
            "_view_module": "@jupyter-widgets/controls",
            "_view_module_version": "1.5.0",
            "_view_name": "HTMLView",
            "description": "",
            "description_tooltip": null,
            "layout": "IPY_MODEL_baa64a22f5514010b16671d9ac8dec1a",
            "placeholder": "​",
            "style": "IPY_MODEL_45394da3a5ae41a4aa18951beac70672",
            "value": "vocab.json: 100%"
          }
        },
        "a0af5f77904943c08d51cdd0559086ba": {
          "model_module": "@jupyter-widgets/controls",
          "model_name": "FloatProgressModel",
          "model_module_version": "1.5.0",
          "state": {
            "_dom_classes": [],
            "_model_module": "@jupyter-widgets/controls",
            "_model_module_version": "1.5.0",
            "_model_name": "FloatProgressModel",
            "_view_count": null,
            "_view_module": "@jupyter-widgets/controls",
            "_view_module_version": "1.5.0",
            "_view_name": "ProgressView",
            "bar_style": "success",
            "description": "",
            "description_tooltip": null,
            "layout": "IPY_MODEL_71517946536c439ebe5363c0928f07fe",
            "max": 1042301,
            "min": 0,
            "orientation": "horizontal",
            "style": "IPY_MODEL_dfc0ef66fb114744b45b52794efc6783",
            "value": 1042301
          }
        },
        "0d88278f29cf4b32a0e0c155f934220f": {
          "model_module": "@jupyter-widgets/controls",
          "model_name": "HTMLModel",
          "model_module_version": "1.5.0",
          "state": {
            "_dom_classes": [],
            "_model_module": "@jupyter-widgets/controls",
            "_model_module_version": "1.5.0",
            "_model_name": "HTMLModel",
            "_view_count": null,
            "_view_module": "@jupyter-widgets/controls",
            "_view_module_version": "1.5.0",
            "_view_name": "HTMLView",
            "description": "",
            "description_tooltip": null,
            "layout": "IPY_MODEL_6995932371fb4af99aa2e32a290177b2",
            "placeholder": "​",
            "style": "IPY_MODEL_d929b13dee8c4cfb823648031bbaf7b0",
            "value": " 1.04M/1.04M [00:00&lt;00:00, 4.62MB/s]"
          }
        },
        "eed8cda585334ac2be8e457d63bd5996": {
          "model_module": "@jupyter-widgets/base",
          "model_name": "LayoutModel",
          "model_module_version": "1.2.0",
          "state": {
            "_model_module": "@jupyter-widgets/base",
            "_model_module_version": "1.2.0",
            "_model_name": "LayoutModel",
            "_view_count": null,
            "_view_module": "@jupyter-widgets/base",
            "_view_module_version": "1.2.0",
            "_view_name": "LayoutView",
            "align_content": null,
            "align_items": null,
            "align_self": null,
            "border": null,
            "bottom": null,
            "display": null,
            "flex": null,
            "flex_flow": null,
            "grid_area": null,
            "grid_auto_columns": null,
            "grid_auto_flow": null,
            "grid_auto_rows": null,
            "grid_column": null,
            "grid_gap": null,
            "grid_row": null,
            "grid_template_areas": null,
            "grid_template_columns": null,
            "grid_template_rows": null,
            "height": null,
            "justify_content": null,
            "justify_items": null,
            "left": null,
            "margin": null,
            "max_height": null,
            "max_width": null,
            "min_height": null,
            "min_width": null,
            "object_fit": null,
            "object_position": null,
            "order": null,
            "overflow": null,
            "overflow_x": null,
            "overflow_y": null,
            "padding": null,
            "right": null,
            "top": null,
            "visibility": null,
            "width": null
          }
        },
        "baa64a22f5514010b16671d9ac8dec1a": {
          "model_module": "@jupyter-widgets/base",
          "model_name": "LayoutModel",
          "model_module_version": "1.2.0",
          "state": {
            "_model_module": "@jupyter-widgets/base",
            "_model_module_version": "1.2.0",
            "_model_name": "LayoutModel",
            "_view_count": null,
            "_view_module": "@jupyter-widgets/base",
            "_view_module_version": "1.2.0",
            "_view_name": "LayoutView",
            "align_content": null,
            "align_items": null,
            "align_self": null,
            "border": null,
            "bottom": null,
            "display": null,
            "flex": null,
            "flex_flow": null,
            "grid_area": null,
            "grid_auto_columns": null,
            "grid_auto_flow": null,
            "grid_auto_rows": null,
            "grid_column": null,
            "grid_gap": null,
            "grid_row": null,
            "grid_template_areas": null,
            "grid_template_columns": null,
            "grid_template_rows": null,
            "height": null,
            "justify_content": null,
            "justify_items": null,
            "left": null,
            "margin": null,
            "max_height": null,
            "max_width": null,
            "min_height": null,
            "min_width": null,
            "object_fit": null,
            "object_position": null,
            "order": null,
            "overflow": null,
            "overflow_x": null,
            "overflow_y": null,
            "padding": null,
            "right": null,
            "top": null,
            "visibility": null,
            "width": null
          }
        },
        "45394da3a5ae41a4aa18951beac70672": {
          "model_module": "@jupyter-widgets/controls",
          "model_name": "DescriptionStyleModel",
          "model_module_version": "1.5.0",
          "state": {
            "_model_module": "@jupyter-widgets/controls",
            "_model_module_version": "1.5.0",
            "_model_name": "DescriptionStyleModel",
            "_view_count": null,
            "_view_module": "@jupyter-widgets/base",
            "_view_module_version": "1.2.0",
            "_view_name": "StyleView",
            "description_width": ""
          }
        },
        "71517946536c439ebe5363c0928f07fe": {
          "model_module": "@jupyter-widgets/base",
          "model_name": "LayoutModel",
          "model_module_version": "1.2.0",
          "state": {
            "_model_module": "@jupyter-widgets/base",
            "_model_module_version": "1.2.0",
            "_model_name": "LayoutModel",
            "_view_count": null,
            "_view_module": "@jupyter-widgets/base",
            "_view_module_version": "1.2.0",
            "_view_name": "LayoutView",
            "align_content": null,
            "align_items": null,
            "align_self": null,
            "border": null,
            "bottom": null,
            "display": null,
            "flex": null,
            "flex_flow": null,
            "grid_area": null,
            "grid_auto_columns": null,
            "grid_auto_flow": null,
            "grid_auto_rows": null,
            "grid_column": null,
            "grid_gap": null,
            "grid_row": null,
            "grid_template_areas": null,
            "grid_template_columns": null,
            "grid_template_rows": null,
            "height": null,
            "justify_content": null,
            "justify_items": null,
            "left": null,
            "margin": null,
            "max_height": null,
            "max_width": null,
            "min_height": null,
            "min_width": null,
            "object_fit": null,
            "object_position": null,
            "order": null,
            "overflow": null,
            "overflow_x": null,
            "overflow_y": null,
            "padding": null,
            "right": null,
            "top": null,
            "visibility": null,
            "width": null
          }
        },
        "dfc0ef66fb114744b45b52794efc6783": {
          "model_module": "@jupyter-widgets/controls",
          "model_name": "ProgressStyleModel",
          "model_module_version": "1.5.0",
          "state": {
            "_model_module": "@jupyter-widgets/controls",
            "_model_module_version": "1.5.0",
            "_model_name": "ProgressStyleModel",
            "_view_count": null,
            "_view_module": "@jupyter-widgets/base",
            "_view_module_version": "1.2.0",
            "_view_name": "StyleView",
            "bar_color": null,
            "description_width": ""
          }
        },
        "6995932371fb4af99aa2e32a290177b2": {
          "model_module": "@jupyter-widgets/base",
          "model_name": "LayoutModel",
          "model_module_version": "1.2.0",
          "state": {
            "_model_module": "@jupyter-widgets/base",
            "_model_module_version": "1.2.0",
            "_model_name": "LayoutModel",
            "_view_count": null,
            "_view_module": "@jupyter-widgets/base",
            "_view_module_version": "1.2.0",
            "_view_name": "LayoutView",
            "align_content": null,
            "align_items": null,
            "align_self": null,
            "border": null,
            "bottom": null,
            "display": null,
            "flex": null,
            "flex_flow": null,
            "grid_area": null,
            "grid_auto_columns": null,
            "grid_auto_flow": null,
            "grid_auto_rows": null,
            "grid_column": null,
            "grid_gap": null,
            "grid_row": null,
            "grid_template_areas": null,
            "grid_template_columns": null,
            "grid_template_rows": null,
            "height": null,
            "justify_content": null,
            "justify_items": null,
            "left": null,
            "margin": null,
            "max_height": null,
            "max_width": null,
            "min_height": null,
            "min_width": null,
            "object_fit": null,
            "object_position": null,
            "order": null,
            "overflow": null,
            "overflow_x": null,
            "overflow_y": null,
            "padding": null,
            "right": null,
            "top": null,
            "visibility": null,
            "width": null
          }
        },
        "d929b13dee8c4cfb823648031bbaf7b0": {
          "model_module": "@jupyter-widgets/controls",
          "model_name": "DescriptionStyleModel",
          "model_module_version": "1.5.0",
          "state": {
            "_model_module": "@jupyter-widgets/controls",
            "_model_module_version": "1.5.0",
            "_model_name": "DescriptionStyleModel",
            "_view_count": null,
            "_view_module": "@jupyter-widgets/base",
            "_view_module_version": "1.2.0",
            "_view_name": "StyleView",
            "description_width": ""
          }
        },
        "db5f027404d6472d9ca22b3e783489a5": {
          "model_module": "@jupyter-widgets/controls",
          "model_name": "HBoxModel",
          "model_module_version": "1.5.0",
          "state": {
            "_dom_classes": [],
            "_model_module": "@jupyter-widgets/controls",
            "_model_module_version": "1.5.0",
            "_model_name": "HBoxModel",
            "_view_count": null,
            "_view_module": "@jupyter-widgets/controls",
            "_view_module_version": "1.5.0",
            "_view_name": "HBoxView",
            "box_style": "",
            "children": [
              "IPY_MODEL_5a7dc521bdb64817b2b4dd5a3ac62b8d",
              "IPY_MODEL_9b8b015ab5454e939cb83a45391226fd",
              "IPY_MODEL_ed675072ba0a4ec782de1d7c450340fd"
            ],
            "layout": "IPY_MODEL_595af5c499124129b65357b46439c9a1"
          }
        },
        "5a7dc521bdb64817b2b4dd5a3ac62b8d": {
          "model_module": "@jupyter-widgets/controls",
          "model_name": "HTMLModel",
          "model_module_version": "1.5.0",
          "state": {
            "_dom_classes": [],
            "_model_module": "@jupyter-widgets/controls",
            "_model_module_version": "1.5.0",
            "_model_name": "HTMLModel",
            "_view_count": null,
            "_view_module": "@jupyter-widgets/controls",
            "_view_module_version": "1.5.0",
            "_view_name": "HTMLView",
            "description": "",
            "description_tooltip": null,
            "layout": "IPY_MODEL_6e857f26699e4f7bad5fa120b2fec73d",
            "placeholder": "​",
            "style": "IPY_MODEL_3389e4f136a54e7c85de901ba4383fa5",
            "value": "merges.txt: 100%"
          }
        },
        "9b8b015ab5454e939cb83a45391226fd": {
          "model_module": "@jupyter-widgets/controls",
          "model_name": "FloatProgressModel",
          "model_module_version": "1.5.0",
          "state": {
            "_dom_classes": [],
            "_model_module": "@jupyter-widgets/controls",
            "_model_module_version": "1.5.0",
            "_model_name": "FloatProgressModel",
            "_view_count": null,
            "_view_module": "@jupyter-widgets/controls",
            "_view_module_version": "1.5.0",
            "_view_name": "ProgressView",
            "bar_style": "success",
            "description": "",
            "description_tooltip": null,
            "layout": "IPY_MODEL_efb3f32d877c40c7bd4c624a43f1217c",
            "max": 456318,
            "min": 0,
            "orientation": "horizontal",
            "style": "IPY_MODEL_b5d26b608b7547a8a226e5c195a1477b",
            "value": 456318
          }
        },
        "ed675072ba0a4ec782de1d7c450340fd": {
          "model_module": "@jupyter-widgets/controls",
          "model_name": "HTMLModel",
          "model_module_version": "1.5.0",
          "state": {
            "_dom_classes": [],
            "_model_module": "@jupyter-widgets/controls",
            "_model_module_version": "1.5.0",
            "_model_name": "HTMLModel",
            "_view_count": null,
            "_view_module": "@jupyter-widgets/controls",
            "_view_module_version": "1.5.0",
            "_view_name": "HTMLView",
            "description": "",
            "description_tooltip": null,
            "layout": "IPY_MODEL_6077e4b90bf94619bc5c00d34eab525c",
            "placeholder": "​",
            "style": "IPY_MODEL_8f3278ce9b14437bb5ea715ad6a94048",
            "value": " 456k/456k [00:00&lt;00:00, 4.07MB/s]"
          }
        },
        "595af5c499124129b65357b46439c9a1": {
          "model_module": "@jupyter-widgets/base",
          "model_name": "LayoutModel",
          "model_module_version": "1.2.0",
          "state": {
            "_model_module": "@jupyter-widgets/base",
            "_model_module_version": "1.2.0",
            "_model_name": "LayoutModel",
            "_view_count": null,
            "_view_module": "@jupyter-widgets/base",
            "_view_module_version": "1.2.0",
            "_view_name": "LayoutView",
            "align_content": null,
            "align_items": null,
            "align_self": null,
            "border": null,
            "bottom": null,
            "display": null,
            "flex": null,
            "flex_flow": null,
            "grid_area": null,
            "grid_auto_columns": null,
            "grid_auto_flow": null,
            "grid_auto_rows": null,
            "grid_column": null,
            "grid_gap": null,
            "grid_row": null,
            "grid_template_areas": null,
            "grid_template_columns": null,
            "grid_template_rows": null,
            "height": null,
            "justify_content": null,
            "justify_items": null,
            "left": null,
            "margin": null,
            "max_height": null,
            "max_width": null,
            "min_height": null,
            "min_width": null,
            "object_fit": null,
            "object_position": null,
            "order": null,
            "overflow": null,
            "overflow_x": null,
            "overflow_y": null,
            "padding": null,
            "right": null,
            "top": null,
            "visibility": null,
            "width": null
          }
        },
        "6e857f26699e4f7bad5fa120b2fec73d": {
          "model_module": "@jupyter-widgets/base",
          "model_name": "LayoutModel",
          "model_module_version": "1.2.0",
          "state": {
            "_model_module": "@jupyter-widgets/base",
            "_model_module_version": "1.2.0",
            "_model_name": "LayoutModel",
            "_view_count": null,
            "_view_module": "@jupyter-widgets/base",
            "_view_module_version": "1.2.0",
            "_view_name": "LayoutView",
            "align_content": null,
            "align_items": null,
            "align_self": null,
            "border": null,
            "bottom": null,
            "display": null,
            "flex": null,
            "flex_flow": null,
            "grid_area": null,
            "grid_auto_columns": null,
            "grid_auto_flow": null,
            "grid_auto_rows": null,
            "grid_column": null,
            "grid_gap": null,
            "grid_row": null,
            "grid_template_areas": null,
            "grid_template_columns": null,
            "grid_template_rows": null,
            "height": null,
            "justify_content": null,
            "justify_items": null,
            "left": null,
            "margin": null,
            "max_height": null,
            "max_width": null,
            "min_height": null,
            "min_width": null,
            "object_fit": null,
            "object_position": null,
            "order": null,
            "overflow": null,
            "overflow_x": null,
            "overflow_y": null,
            "padding": null,
            "right": null,
            "top": null,
            "visibility": null,
            "width": null
          }
        },
        "3389e4f136a54e7c85de901ba4383fa5": {
          "model_module": "@jupyter-widgets/controls",
          "model_name": "DescriptionStyleModel",
          "model_module_version": "1.5.0",
          "state": {
            "_model_module": "@jupyter-widgets/controls",
            "_model_module_version": "1.5.0",
            "_model_name": "DescriptionStyleModel",
            "_view_count": null,
            "_view_module": "@jupyter-widgets/base",
            "_view_module_version": "1.2.0",
            "_view_name": "StyleView",
            "description_width": ""
          }
        },
        "efb3f32d877c40c7bd4c624a43f1217c": {
          "model_module": "@jupyter-widgets/base",
          "model_name": "LayoutModel",
          "model_module_version": "1.2.0",
          "state": {
            "_model_module": "@jupyter-widgets/base",
            "_model_module_version": "1.2.0",
            "_model_name": "LayoutModel",
            "_view_count": null,
            "_view_module": "@jupyter-widgets/base",
            "_view_module_version": "1.2.0",
            "_view_name": "LayoutView",
            "align_content": null,
            "align_items": null,
            "align_self": null,
            "border": null,
            "bottom": null,
            "display": null,
            "flex": null,
            "flex_flow": null,
            "grid_area": null,
            "grid_auto_columns": null,
            "grid_auto_flow": null,
            "grid_auto_rows": null,
            "grid_column": null,
            "grid_gap": null,
            "grid_row": null,
            "grid_template_areas": null,
            "grid_template_columns": null,
            "grid_template_rows": null,
            "height": null,
            "justify_content": null,
            "justify_items": null,
            "left": null,
            "margin": null,
            "max_height": null,
            "max_width": null,
            "min_height": null,
            "min_width": null,
            "object_fit": null,
            "object_position": null,
            "order": null,
            "overflow": null,
            "overflow_x": null,
            "overflow_y": null,
            "padding": null,
            "right": null,
            "top": null,
            "visibility": null,
            "width": null
          }
        },
        "b5d26b608b7547a8a226e5c195a1477b": {
          "model_module": "@jupyter-widgets/controls",
          "model_name": "ProgressStyleModel",
          "model_module_version": "1.5.0",
          "state": {
            "_model_module": "@jupyter-widgets/controls",
            "_model_module_version": "1.5.0",
            "_model_name": "ProgressStyleModel",
            "_view_count": null,
            "_view_module": "@jupyter-widgets/base",
            "_view_module_version": "1.2.0",
            "_view_name": "StyleView",
            "bar_color": null,
            "description_width": ""
          }
        },
        "6077e4b90bf94619bc5c00d34eab525c": {
          "model_module": "@jupyter-widgets/base",
          "model_name": "LayoutModel",
          "model_module_version": "1.2.0",
          "state": {
            "_model_module": "@jupyter-widgets/base",
            "_model_module_version": "1.2.0",
            "_model_name": "LayoutModel",
            "_view_count": null,
            "_view_module": "@jupyter-widgets/base",
            "_view_module_version": "1.2.0",
            "_view_name": "LayoutView",
            "align_content": null,
            "align_items": null,
            "align_self": null,
            "border": null,
            "bottom": null,
            "display": null,
            "flex": null,
            "flex_flow": null,
            "grid_area": null,
            "grid_auto_columns": null,
            "grid_auto_flow": null,
            "grid_auto_rows": null,
            "grid_column": null,
            "grid_gap": null,
            "grid_row": null,
            "grid_template_areas": null,
            "grid_template_columns": null,
            "grid_template_rows": null,
            "height": null,
            "justify_content": null,
            "justify_items": null,
            "left": null,
            "margin": null,
            "max_height": null,
            "max_width": null,
            "min_height": null,
            "min_width": null,
            "object_fit": null,
            "object_position": null,
            "order": null,
            "overflow": null,
            "overflow_x": null,
            "overflow_y": null,
            "padding": null,
            "right": null,
            "top": null,
            "visibility": null,
            "width": null
          }
        },
        "8f3278ce9b14437bb5ea715ad6a94048": {
          "model_module": "@jupyter-widgets/controls",
          "model_name": "DescriptionStyleModel",
          "model_module_version": "1.5.0",
          "state": {
            "_model_module": "@jupyter-widgets/controls",
            "_model_module_version": "1.5.0",
            "_model_name": "DescriptionStyleModel",
            "_view_count": null,
            "_view_module": "@jupyter-widgets/base",
            "_view_module_version": "1.2.0",
            "_view_name": "StyleView",
            "description_width": ""
          }
        },
        "fffb34ad663a4ee8ade34fdd40cec9c0": {
          "model_module": "@jupyter-widgets/controls",
          "model_name": "HBoxModel",
          "model_module_version": "1.5.0",
          "state": {
            "_dom_classes": [],
            "_model_module": "@jupyter-widgets/controls",
            "_model_module_version": "1.5.0",
            "_model_name": "HBoxModel",
            "_view_count": null,
            "_view_module": "@jupyter-widgets/controls",
            "_view_module_version": "1.5.0",
            "_view_name": "HBoxView",
            "box_style": "",
            "children": [
              "IPY_MODEL_8712510e522d4c15a19212749dd214de",
              "IPY_MODEL_8cbf0cc75ef24dbd86dd055594e7f081",
              "IPY_MODEL_6033e1b33a7748678a2dd3c912300055"
            ],
            "layout": "IPY_MODEL_a7eb7c2f907d45f1b0ce98935335ca7c"
          }
        },
        "8712510e522d4c15a19212749dd214de": {
          "model_module": "@jupyter-widgets/controls",
          "model_name": "HTMLModel",
          "model_module_version": "1.5.0",
          "state": {
            "_dom_classes": [],
            "_model_module": "@jupyter-widgets/controls",
            "_model_module_version": "1.5.0",
            "_model_name": "HTMLModel",
            "_view_count": null,
            "_view_module": "@jupyter-widgets/controls",
            "_view_module_version": "1.5.0",
            "_view_name": "HTMLView",
            "description": "",
            "description_tooltip": null,
            "layout": "IPY_MODEL_26dc62c15f614ed18256dde81adb5a7a",
            "placeholder": "​",
            "style": "IPY_MODEL_8a9168b5b0a94f59866e115b37939663",
            "value": "tokenizer.json: 100%"
          }
        },
        "8cbf0cc75ef24dbd86dd055594e7f081": {
          "model_module": "@jupyter-widgets/controls",
          "model_name": "FloatProgressModel",
          "model_module_version": "1.5.0",
          "state": {
            "_dom_classes": [],
            "_model_module": "@jupyter-widgets/controls",
            "_model_module_version": "1.5.0",
            "_model_name": "FloatProgressModel",
            "_view_count": null,
            "_view_module": "@jupyter-widgets/controls",
            "_view_module_version": "1.5.0",
            "_view_name": "ProgressView",
            "bar_style": "success",
            "description": "",
            "description_tooltip": null,
            "layout": "IPY_MODEL_ac54ffdefd4b48b093ed9986fa828e4e",
            "max": 1355256,
            "min": 0,
            "orientation": "horizontal",
            "style": "IPY_MODEL_f89beef866dd4d6090242b20d6dbc117",
            "value": 1355256
          }
        },
        "6033e1b33a7748678a2dd3c912300055": {
          "model_module": "@jupyter-widgets/controls",
          "model_name": "HTMLModel",
          "model_module_version": "1.5.0",
          "state": {
            "_dom_classes": [],
            "_model_module": "@jupyter-widgets/controls",
            "_model_module_version": "1.5.0",
            "_model_name": "HTMLModel",
            "_view_count": null,
            "_view_module": "@jupyter-widgets/controls",
            "_view_module_version": "1.5.0",
            "_view_name": "HTMLView",
            "description": "",
            "description_tooltip": null,
            "layout": "IPY_MODEL_3809fe11bfc441028d89cf278adec5d3",
            "placeholder": "​",
            "style": "IPY_MODEL_2e8953c19af44b73871a18b2dc1c6717",
            "value": " 1.36M/1.36M [00:00&lt;00:00, 4.90MB/s]"
          }
        },
        "a7eb7c2f907d45f1b0ce98935335ca7c": {
          "model_module": "@jupyter-widgets/base",
          "model_name": "LayoutModel",
          "model_module_version": "1.2.0",
          "state": {
            "_model_module": "@jupyter-widgets/base",
            "_model_module_version": "1.2.0",
            "_model_name": "LayoutModel",
            "_view_count": null,
            "_view_module": "@jupyter-widgets/base",
            "_view_module_version": "1.2.0",
            "_view_name": "LayoutView",
            "align_content": null,
            "align_items": null,
            "align_self": null,
            "border": null,
            "bottom": null,
            "display": null,
            "flex": null,
            "flex_flow": null,
            "grid_area": null,
            "grid_auto_columns": null,
            "grid_auto_flow": null,
            "grid_auto_rows": null,
            "grid_column": null,
            "grid_gap": null,
            "grid_row": null,
            "grid_template_areas": null,
            "grid_template_columns": null,
            "grid_template_rows": null,
            "height": null,
            "justify_content": null,
            "justify_items": null,
            "left": null,
            "margin": null,
            "max_height": null,
            "max_width": null,
            "min_height": null,
            "min_width": null,
            "object_fit": null,
            "object_position": null,
            "order": null,
            "overflow": null,
            "overflow_x": null,
            "overflow_y": null,
            "padding": null,
            "right": null,
            "top": null,
            "visibility": null,
            "width": null
          }
        },
        "26dc62c15f614ed18256dde81adb5a7a": {
          "model_module": "@jupyter-widgets/base",
          "model_name": "LayoutModel",
          "model_module_version": "1.2.0",
          "state": {
            "_model_module": "@jupyter-widgets/base",
            "_model_module_version": "1.2.0",
            "_model_name": "LayoutModel",
            "_view_count": null,
            "_view_module": "@jupyter-widgets/base",
            "_view_module_version": "1.2.0",
            "_view_name": "LayoutView",
            "align_content": null,
            "align_items": null,
            "align_self": null,
            "border": null,
            "bottom": null,
            "display": null,
            "flex": null,
            "flex_flow": null,
            "grid_area": null,
            "grid_auto_columns": null,
            "grid_auto_flow": null,
            "grid_auto_rows": null,
            "grid_column": null,
            "grid_gap": null,
            "grid_row": null,
            "grid_template_areas": null,
            "grid_template_columns": null,
            "grid_template_rows": null,
            "height": null,
            "justify_content": null,
            "justify_items": null,
            "left": null,
            "margin": null,
            "max_height": null,
            "max_width": null,
            "min_height": null,
            "min_width": null,
            "object_fit": null,
            "object_position": null,
            "order": null,
            "overflow": null,
            "overflow_x": null,
            "overflow_y": null,
            "padding": null,
            "right": null,
            "top": null,
            "visibility": null,
            "width": null
          }
        },
        "8a9168b5b0a94f59866e115b37939663": {
          "model_module": "@jupyter-widgets/controls",
          "model_name": "DescriptionStyleModel",
          "model_module_version": "1.5.0",
          "state": {
            "_model_module": "@jupyter-widgets/controls",
            "_model_module_version": "1.5.0",
            "_model_name": "DescriptionStyleModel",
            "_view_count": null,
            "_view_module": "@jupyter-widgets/base",
            "_view_module_version": "1.2.0",
            "_view_name": "StyleView",
            "description_width": ""
          }
        },
        "ac54ffdefd4b48b093ed9986fa828e4e": {
          "model_module": "@jupyter-widgets/base",
          "model_name": "LayoutModel",
          "model_module_version": "1.2.0",
          "state": {
            "_model_module": "@jupyter-widgets/base",
            "_model_module_version": "1.2.0",
            "_model_name": "LayoutModel",
            "_view_count": null,
            "_view_module": "@jupyter-widgets/base",
            "_view_module_version": "1.2.0",
            "_view_name": "LayoutView",
            "align_content": null,
            "align_items": null,
            "align_self": null,
            "border": null,
            "bottom": null,
            "display": null,
            "flex": null,
            "flex_flow": null,
            "grid_area": null,
            "grid_auto_columns": null,
            "grid_auto_flow": null,
            "grid_auto_rows": null,
            "grid_column": null,
            "grid_gap": null,
            "grid_row": null,
            "grid_template_areas": null,
            "grid_template_columns": null,
            "grid_template_rows": null,
            "height": null,
            "justify_content": null,
            "justify_items": null,
            "left": null,
            "margin": null,
            "max_height": null,
            "max_width": null,
            "min_height": null,
            "min_width": null,
            "object_fit": null,
            "object_position": null,
            "order": null,
            "overflow": null,
            "overflow_x": null,
            "overflow_y": null,
            "padding": null,
            "right": null,
            "top": null,
            "visibility": null,
            "width": null
          }
        },
        "f89beef866dd4d6090242b20d6dbc117": {
          "model_module": "@jupyter-widgets/controls",
          "model_name": "ProgressStyleModel",
          "model_module_version": "1.5.0",
          "state": {
            "_model_module": "@jupyter-widgets/controls",
            "_model_module_version": "1.5.0",
            "_model_name": "ProgressStyleModel",
            "_view_count": null,
            "_view_module": "@jupyter-widgets/base",
            "_view_module_version": "1.2.0",
            "_view_name": "StyleView",
            "bar_color": null,
            "description_width": ""
          }
        },
        "3809fe11bfc441028d89cf278adec5d3": {
          "model_module": "@jupyter-widgets/base",
          "model_name": "LayoutModel",
          "model_module_version": "1.2.0",
          "state": {
            "_model_module": "@jupyter-widgets/base",
            "_model_module_version": "1.2.0",
            "_model_name": "LayoutModel",
            "_view_count": null,
            "_view_module": "@jupyter-widgets/base",
            "_view_module_version": "1.2.0",
            "_view_name": "LayoutView",
            "align_content": null,
            "align_items": null,
            "align_self": null,
            "border": null,
            "bottom": null,
            "display": null,
            "flex": null,
            "flex_flow": null,
            "grid_area": null,
            "grid_auto_columns": null,
            "grid_auto_flow": null,
            "grid_auto_rows": null,
            "grid_column": null,
            "grid_gap": null,
            "grid_row": null,
            "grid_template_areas": null,
            "grid_template_columns": null,
            "grid_template_rows": null,
            "height": null,
            "justify_content": null,
            "justify_items": null,
            "left": null,
            "margin": null,
            "max_height": null,
            "max_width": null,
            "min_height": null,
            "min_width": null,
            "object_fit": null,
            "object_position": null,
            "order": null,
            "overflow": null,
            "overflow_x": null,
            "overflow_y": null,
            "padding": null,
            "right": null,
            "top": null,
            "visibility": null,
            "width": null
          }
        },
        "2e8953c19af44b73871a18b2dc1c6717": {
          "model_module": "@jupyter-widgets/controls",
          "model_name": "DescriptionStyleModel",
          "model_module_version": "1.5.0",
          "state": {
            "_model_module": "@jupyter-widgets/controls",
            "_model_module_version": "1.5.0",
            "_model_name": "DescriptionStyleModel",
            "_view_count": null,
            "_view_module": "@jupyter-widgets/base",
            "_view_module_version": "1.2.0",
            "_view_name": "StyleView",
            "description_width": ""
          }
        }
      }
    }
  },
  "cells": [
    {
      "cell_type": "code",
      "execution_count": null,
      "metadata": {
        "id": "tOR6VO-jTg1_"
      },
      "outputs": [],
      "source": [
        "import os\n",
        "import re\n",
        "import torch\n",
        "import numpy as np\n",
        "import pandas as pd\n",
        "\n",
        "from transformers import GPT2LMHeadModel, GPT2Tokenizer"
      ]
    },
    {
      "cell_type": "code",
      "source": [
        "device = torch.device('cuda')"
      ],
      "metadata": {
        "id": "980Npg2YT4C1"
      },
      "execution_count": null,
      "outputs": []
    },
    {
      "cell_type": "markdown",
      "source": [
        "#Loading the base model"
      ],
      "metadata": {
        "id": "KFjfVY37vdM0"
      }
    },
    {
      "cell_type": "code",
      "source": [
        "model = GPT2LMHeadModel.from_pretrained(\"gpt2\").to(device)\n",
        "tokenizer = GPT2Tokenizer.from_pretrained(\"gpt2\")"
      ],
      "metadata": {
        "colab": {
          "base_uri": "https://localhost:8080/",
          "height": 365,
          "referenced_widgets": [
            "e03e5a84c5eb4e9e9733a524108209d3",
            "da5e6d7d06544115a144e9b0f2bf5ef6",
            "9dce4bfe8c814782be54b52ace8a6553",
            "03fc9d4b8df74d38ba8b63ab740a684b",
            "1b6f3232f61645e1a3fff114b226a35e",
            "eeab9fffe3b74582b1efc010c7791ef7",
            "b55ed9551ac644c59c6f60efbf48b49d",
            "e52f24ba0ac34a76818fd14dda498b8f",
            "b788838c598d4184b61f9008901abafe",
            "218128ed4c7c4b48875336ad2eb949eb",
            "16db26b2f2984312b1c665f582944a0b",
            "31ce725827a142ccbb834ae82f6632c6",
            "48d97f8634874dca93c77ad7dc628f8b",
            "afca848ea6134274a5f794450f29d0b1",
            "7d61d782a7e7468ba5e443e0c7c54408",
            "9ccdf203abfb4bef81496d0fca05d2e9",
            "f6e8d462434642a68831955765376400",
            "2a1bfdd75ba549e6a460da750580cee5",
            "d4198e7550444a4bad54a78f0d098619",
            "698e4a08ff4741cbb0546b169b2c3cd6",
            "0cf395c2d2064e3995c9ed407f2ab84c",
            "a383361b2bd34d0f8a9317454280ba43",
            "cb4645c3842e40adae43ed25e67ca678",
            "e5250ff1fb164380a5b6982156b042be",
            "54e5cef775e44e458dd381d790681761",
            "4782e0b1e5264d6b901ba1b33ec304ec",
            "7891fb30429f447381f4e3d994c2c9df",
            "e25f5d64f8264f22b5d0d4197649b3b2",
            "0c09c0e2aec3425a8fb64bdf6fda45a9",
            "0c4a682c316b49738e2b044b62efdb50",
            "902af795efcd4a118641aecbb6170fe6",
            "06c1118bf789410cb0b92c6dd7ce8f1f",
            "850cc69c37a741ca9e4a17314b0f808f",
            "62542efd37e14847b79699ad6be7cbb4",
            "37ca75e64f2a4003bd80605dadc41a68",
            "35876f0e947746b08af769da4ceaf848",
            "f3af38e36aab4d1aa91761698813f74a",
            "ea46423e34d74ecebd72b5f02c4787ce",
            "537530051ac641b3bc2cf35fd5cabfda",
            "f9f1b94a7903475bbcb38820ebb39b4b",
            "2bba356bb11a42a7a55d02ef355ee54e",
            "f453b4ae8fc440d6b7f15faf8e22e281",
            "1b7095b8da3a43729de3d59b77c8141a",
            "94f3c2b9ec0d46ae9476b95b881e873e",
            "6ef63395d470484c909af6477c3cb33f",
            "bebbb201f9f54edd82506d85902245b7",
            "a0af5f77904943c08d51cdd0559086ba",
            "0d88278f29cf4b32a0e0c155f934220f",
            "eed8cda585334ac2be8e457d63bd5996",
            "baa64a22f5514010b16671d9ac8dec1a",
            "45394da3a5ae41a4aa18951beac70672",
            "71517946536c439ebe5363c0928f07fe",
            "dfc0ef66fb114744b45b52794efc6783",
            "6995932371fb4af99aa2e32a290177b2",
            "d929b13dee8c4cfb823648031bbaf7b0",
            "db5f027404d6472d9ca22b3e783489a5",
            "5a7dc521bdb64817b2b4dd5a3ac62b8d",
            "9b8b015ab5454e939cb83a45391226fd",
            "ed675072ba0a4ec782de1d7c450340fd",
            "595af5c499124129b65357b46439c9a1",
            "6e857f26699e4f7bad5fa120b2fec73d",
            "3389e4f136a54e7c85de901ba4383fa5",
            "efb3f32d877c40c7bd4c624a43f1217c",
            "b5d26b608b7547a8a226e5c195a1477b",
            "6077e4b90bf94619bc5c00d34eab525c",
            "8f3278ce9b14437bb5ea715ad6a94048",
            "fffb34ad663a4ee8ade34fdd40cec9c0",
            "8712510e522d4c15a19212749dd214de",
            "8cbf0cc75ef24dbd86dd055594e7f081",
            "6033e1b33a7748678a2dd3c912300055",
            "a7eb7c2f907d45f1b0ce98935335ca7c",
            "26dc62c15f614ed18256dde81adb5a7a",
            "8a9168b5b0a94f59866e115b37939663",
            "ac54ffdefd4b48b093ed9986fa828e4e",
            "f89beef866dd4d6090242b20d6dbc117",
            "3809fe11bfc441028d89cf278adec5d3",
            "2e8953c19af44b73871a18b2dc1c6717"
          ]
        },
        "id": "NegXFrixT9Bh",
        "outputId": "56fb2871-7828-4361-821b-6441190081eb"
      },
      "execution_count": null,
      "outputs": [
        {
          "output_type": "stream",
          "name": "stderr",
          "text": [
            "/usr/local/lib/python3.10/dist-packages/huggingface_hub/utils/_token.py:88: UserWarning: \n",
            "The secret `HF_TOKEN` does not exist in your Colab secrets.\n",
            "To authenticate with the Hugging Face Hub, create a token in your settings tab (https://huggingface.co/settings/tokens), set it as secret in your Google Colab and restart your session.\n",
            "You will be able to reuse this secret in all of your notebooks.\n",
            "Please note that authentication is recommended but still optional to access public models or datasets.\n",
            "  warnings.warn(\n"
          ]
        },
        {
          "output_type": "display_data",
          "data": {
            "text/plain": [
              "config.json:   0%|          | 0.00/665 [00:00<?, ?B/s]"
            ],
            "application/vnd.jupyter.widget-view+json": {
              "version_major": 2,
              "version_minor": 0,
              "model_id": "e03e5a84c5eb4e9e9733a524108209d3"
            }
          },
          "metadata": {}
        },
        {
          "output_type": "display_data",
          "data": {
            "text/plain": [
              "model.safetensors:   0%|          | 0.00/548M [00:00<?, ?B/s]"
            ],
            "application/vnd.jupyter.widget-view+json": {
              "version_major": 2,
              "version_minor": 0,
              "model_id": "31ce725827a142ccbb834ae82f6632c6"
            }
          },
          "metadata": {}
        },
        {
          "output_type": "display_data",
          "data": {
            "text/plain": [
              "generation_config.json:   0%|          | 0.00/124 [00:00<?, ?B/s]"
            ],
            "application/vnd.jupyter.widget-view+json": {
              "version_major": 2,
              "version_minor": 0,
              "model_id": "cb4645c3842e40adae43ed25e67ca678"
            }
          },
          "metadata": {}
        },
        {
          "output_type": "display_data",
          "data": {
            "text/plain": [
              "tokenizer_config.json:   0%|          | 0.00/26.0 [00:00<?, ?B/s]"
            ],
            "application/vnd.jupyter.widget-view+json": {
              "version_major": 2,
              "version_minor": 0,
              "model_id": "62542efd37e14847b79699ad6be7cbb4"
            }
          },
          "metadata": {}
        },
        {
          "output_type": "display_data",
          "data": {
            "text/plain": [
              "vocab.json:   0%|          | 0.00/1.04M [00:00<?, ?B/s]"
            ],
            "application/vnd.jupyter.widget-view+json": {
              "version_major": 2,
              "version_minor": 0,
              "model_id": "6ef63395d470484c909af6477c3cb33f"
            }
          },
          "metadata": {}
        },
        {
          "output_type": "display_data",
          "data": {
            "text/plain": [
              "merges.txt:   0%|          | 0.00/456k [00:00<?, ?B/s]"
            ],
            "application/vnd.jupyter.widget-view+json": {
              "version_major": 2,
              "version_minor": 0,
              "model_id": "db5f027404d6472d9ca22b3e783489a5"
            }
          },
          "metadata": {}
        },
        {
          "output_type": "display_data",
          "data": {
            "text/plain": [
              "tokenizer.json:   0%|          | 0.00/1.36M [00:00<?, ?B/s]"
            ],
            "application/vnd.jupyter.widget-view+json": {
              "version_major": 2,
              "version_minor": 0,
              "model_id": "fffb34ad663a4ee8ade34fdd40cec9c0"
            }
          },
          "metadata": {}
        }
      ]
    },
    {
      "cell_type": "code",
      "source": [
        "import json"
      ],
      "metadata": {
        "id": "SvjW5UEwUtth"
      },
      "execution_count": null,
      "outputs": []
    },
    {
      "cell_type": "markdown",
      "source": [
        "#Loading the QA data"
      ],
      "metadata": {
        "id": "HNaM2J91vi7P"
      }
    },
    {
      "cell_type": "code",
      "source": [
        "with open(\"/content/formatted_conversations.json\", \"r\") as f:\n",
        "    dataset = json.load(f)"
      ],
      "metadata": {
        "id": "lSxU8tWLUwpj",
        "colab": {
          "base_uri": "https://localhost:8080/",
          "height": 159
        },
        "outputId": "bd73583d-2864-4af3-ecfc-79af4036c1c5"
      },
      "execution_count": null,
      "outputs": [
        {
          "output_type": "error",
          "ename": "FileNotFoundError",
          "evalue": "[Errno 2] No such file or directory: '/content/formatted_conversations.json'",
          "traceback": [
            "\u001b[0;31m---------------------------------------------------------------------------\u001b[0m",
            "\u001b[0;31mFileNotFoundError\u001b[0m                         Traceback (most recent call last)",
            "\u001b[0;32m<ipython-input-5-e9abf23388f6>\u001b[0m in \u001b[0;36m<cell line: 1>\u001b[0;34m()\u001b[0m\n\u001b[0;32m----> 1\u001b[0;31m \u001b[0;32mwith\u001b[0m \u001b[0mopen\u001b[0m\u001b[0;34m(\u001b[0m\u001b[0;34m\"/content/formatted_conversations.json\"\u001b[0m\u001b[0;34m,\u001b[0m \u001b[0;34m\"r\"\u001b[0m\u001b[0;34m)\u001b[0m \u001b[0;32mas\u001b[0m \u001b[0mf\u001b[0m\u001b[0;34m:\u001b[0m\u001b[0;34m\u001b[0m\u001b[0;34m\u001b[0m\u001b[0m\n\u001b[0m\u001b[1;32m      2\u001b[0m     \u001b[0mdataset\u001b[0m \u001b[0;34m=\u001b[0m \u001b[0mjson\u001b[0m\u001b[0;34m.\u001b[0m\u001b[0mload\u001b[0m\u001b[0;34m(\u001b[0m\u001b[0mf\u001b[0m\u001b[0;34m)\u001b[0m\u001b[0;34m\u001b[0m\u001b[0;34m\u001b[0m\u001b[0m\n",
            "\u001b[0;31mFileNotFoundError\u001b[0m: [Errno 2] No such file or directory: '/content/formatted_conversations.json'"
          ]
        }
      ]
    },
    {
      "cell_type": "code",
      "source": [
        "data_txt = []\n",
        "# for i in range(speech_data.shape[0]):\n",
        "#     o, p = speech_data.other_quote[i], speech_data.president_quote[i]\n",
        "#     line = f'@@Q_START@@ {o} @@Q_END@@ @@A_START@@ {p} @@A_END@@'\n",
        "#     data_txt.append(line)\n",
        "\n",
        "for conversation in dataset:\n",
        "    q, a = conversation['user'], conversation['system']\n",
        "    line = f'@@Q_START@@ {q} @@Q_END@@ @@A_START@@ {a} @@A_END@@'\n",
        "    data_txt.append(line)"
      ],
      "metadata": {
        "id": "GNBCafFXUTSi"
      },
      "execution_count": null,
      "outputs": []
    },
    {
      "cell_type": "code",
      "source": [
        "data_txt[:5]"
      ],
      "metadata": {
        "colab": {
          "base_uri": "https://localhost:8080/"
        },
        "id": "jC6EgFC_VjcY",
        "outputId": "b05ba455-9072-4703-ffee-c3c01ccd5ed0"
      },
      "execution_count": null,
      "outputs": [
        {
          "output_type": "execute_result",
          "data": {
            "text/plain": [
              "['@@Q_START@@ What are the uses of a thru z advanced formula? @@Q_END@@ @@A_START@@ a thru z advanced formula is a multivitamin and iron product used to treat or prevent vitamin deficiency due to poor diet, certain illnesses, or during pregnancy. Vitamins and iron are important building blocks of the body and help keep you in good health. @@A_END@@',\n",
              " '@@Q_START@@ How to use a thru z advanced formula? @@Q_END@@ @@A_START@@ A Thru Z Advanced Formula Take a thru z advanced formula by mouth , usually once daily or as directed. Follow all directions on the product package, or take as directed by your doctor. Do not take more than the recommended dosage. If you have any questions, ask your doctor or pharmacist . a thru z advanced formula is best taken on an empty stomach 1 hour before or 2 hours after meals. Take with a full glass of water (8 ounces or 240 milliliters) unless your doctor directs you otherwise. If stomach upset occurs, you may take a thru z advanced formula with food. Avoid taking antacids, dairy products, tea, or coffee within 2 hours before or after a thru z advanced formula because they may decrease its effectiveness. Do not lie down for at least 10 minutes after taking the tablets or capsules. Consult your doctor or pharmacist for details for your particular brand. If you are taking the delayed-release form or extended-release capsules, swallow them whole. Do not crush or chew delayed-release or extended-release products. Doing so can release all of the drug at once, increasing the risk of side effects and decreasing absorption. Also, do not split extended-release tablets unless they have a score line and your doctor or pharmacist tells you to do so. Swallow the whole or split tablet without crushing or chewing. Take a thru z advanced formula regularly in order to get the most benefit from it. To help you remember, take it at the same time each day. @@A_END@@',\n",
              " '@@Q_START@@ What precautions should I take when using a thru z advanced formula? @@Q_END@@ @@A_START@@ Accidental overdose of iron-containing products is a leading cause of fatal poisoning in children younger than 6 years. Keep a thru z advanced formula out of reach of children. If overdose does occur, get medical help right away or call a poison control center. Before taking a thru z advanced formula, tell your doctor or pharmacist if you are allergic to any of its ingredients; or if you have any other allergies . a thru z advanced formula may contain inactive ingredients (such as soy found in some brands), which can cause allergic reactions or other problems. Talk to your pharmacist for more details. Before taking a thru z advanced formula , tell your doctor or pharmacist your medical history, especially of: iron overload disorder (such as hemochromatosis , hemosiderosis), use/abuse of alcohol, liver problems , stomach /intestinal problems (such as ulcer, colitis ). If your brand of multivitamin also contains folic acid , be sure to tell your doctor or pharmacist if you have vitamin B12 deficiency ( pernicious anemia ) before taking it. Folic acid may affect certain lab tests for vitamin B12 deficiency without treating this anemia . Untreated vitamin B12 deficiency may result in serious nerve problems (such as peripheral neuropathy ). Consult your doctor or pharmacist for details. Before having surgery, tell your doctor or dentist about all the products you use (including prescription drugs , nonprescription drugs, and herbal products). Tell your doctor if you are pregnant before using a thru z advanced formula. a thru z advanced formula passes into breast milk. Consult your doctor before breast-feeding. @@A_END@@',\n",
              " '@@Q_START@@ What are the interactions of a thru z advanced formula? @@Q_END@@ @@A_START@@  a thru z advanced formula can decrease the absorption of other drugs such as bisphosphonates (for example, alendronate ), levodopa, penicillamine , quinolone antibiotics (for example, ciprofloxacin , levofloxacin ), thyroid medications (for example, levothyroxine ), and tetracycline antibiotics (for example, doxycycline , minocycline ). Separate your doses of these medications as far as possible from your doses of a thru z advanced formula. Ask your doctor or pharmacist about how long you should wait between doses and for help finding a dosing schedule that will work with all your medications. If your brand of multivitamin also contains folic acid , be sure to tell your doctor or pharmacist if you take certain anti- seizure drugs (such as hydantoins such as phenytoin). a thru z advanced formula may interfere with certain lab tests, possibly causing false test results. Make sure lab personnel and all your doctors know you use a thru z advanced formula. Does A Thru Z Advanced Formula interact with other drugs you are taking? Enter your medication into the WebMD interaction checker Check Interaction @@A_END@@',\n",
              " \"@@Q_START@@ What are the uses of a-hydrocort vial? @@Q_END@@ @@A_START@@ a-hydrocort vial is used to treat various conditions such as arthritis , severe allergies , blood diseases, breathing problems , certain cancers, eye diseases, intestinal disorders, and skin diseases. It weakens your immune system's response to various diseases to reduce symptoms such as swelling and allergic-type reactions. Hydrocortisone may also be used with other medications to replace certain hormones if you have decreased adrenal gland function or Addison's disease . Hydrocortisone belongs to a class of drugs known as corticosteroids.Hydrocortisone injection is used when a similar drug cannot be taken by mouth or when a very fast treatment is needed for patients with severe medical conditions. Talk to your doctor about the risks and benefits of hydrocortisone, especially if it is to be injected near your spine ( epidural ). Rare but serious side effects may occur with epidural use. @@A_END@@\"]"
            ]
          },
          "metadata": {},
          "execution_count": 7
        }
      ]
    },
    {
      "cell_type": "code",
      "source": [
        "with open('/content/drive/MyDrive/miniproject/data.txt', 'w') as w:\n",
        "    for ex in data_txt:\n",
        "        w.write(f'{ex}\\n')"
      ],
      "metadata": {
        "id": "IIy0_04_Voy6"
      },
      "execution_count": null,
      "outputs": []
    },
    {
      "cell_type": "markdown",
      "source": [
        "#Adding special tokens to the tokenizer to mark the question and answer"
      ],
      "metadata": {
        "id": "cVF7jYGcvpwn"
      }
    },
    {
      "cell_type": "code",
      "source": [
        "# Adding the new tokens and saving the new tokenizer\n",
        "\n",
        "tokenizer = GPT2Tokenizer.from_pretrained('gpt2')\n",
        "tokenizer.add_tokens(['@@Q_START@@', '@@Q_END@@', '@@A_START@@', '@@A_END@@'], special_tokens=True)\n",
        "\n",
        "\n",
        "tokenizer.save_pretrained('/content/drive/MyDrive/miniproject/new_tokenizer/new_tokenizer')"
      ],
      "metadata": {
        "colab": {
          "base_uri": "https://localhost:8080/"
        },
        "id": "4lfb1HwfWDIL",
        "outputId": "3180d82c-bf71-4a4b-be13-cca2314d0130"
      },
      "execution_count": null,
      "outputs": [
        {
          "output_type": "execute_result",
          "data": {
            "text/plain": [
              "('/content/drive/MyDrive/miniproject/new_tokenizer/new_tokenizer/tokenizer_config.json',\n",
              " '/content/drive/MyDrive/miniproject/new_tokenizer/new_tokenizer/special_tokens_map.json',\n",
              " '/content/drive/MyDrive/miniproject/new_tokenizer/new_tokenizer/vocab.json',\n",
              " '/content/drive/MyDrive/miniproject/new_tokenizer/new_tokenizer/merges.txt',\n",
              " '/content/drive/MyDrive/miniproject/new_tokenizer/new_tokenizer/added_tokens.json')"
            ]
          },
          "metadata": {},
          "execution_count": 9
        }
      ]
    },
    {
      "cell_type": "markdown",
      "source": [
        "#Calling the GPT finetuning script with appropriate parameters"
      ],
      "metadata": {
        "id": "FEqrwFZwv0nI"
      }
    },
    {
      "cell_type": "code",
      "source": [
        "!pip install datasets\n",
        "!pip install evaluate\n",
        "!pip install accelerate>=0.21.0\n",
        "!python run_clm.py \\\n",
        "   --do_train \\\n",
        "   --model_name_or_path \"gpt2\" \\\n",
        "   --tokenizer_name \"/content/drive/MyDrive/miniproject/new_tokenizer/new_tokenizer\" \\\n",
        "   --model_type \"gpt2\" \\\n",
        "   --train_file \"/content/drive/MyDrive/miniproject/data.txt\" \\\n",
        "   --validation_file \"/content/drive/MyDrive/miniproject/data.txt\" \\\n",
        "   --cache_dir \"/content/drive/MyDrive/miniproject/cache\" \\\n",
        "   --output_dir \"/content/drive/MyDrive/miniproject/logs_26042024\" \\\n",
        "   --per_device_train_batch_size 2 \\\n",
        "   --gradient_accumulation_steps 8 \\\n",
        "   --save_total_limit 3 \\\n",
        "   --save_strategy \"steps\" \\\n",
        "   --eval_steps 500 \\\n",
        "   --save_steps 500 \\\n",
        "   --preprocessing_num_workers 4 \\\n",
        "   --num_train_epochs 3 \\\n",
        "   --block_size 512"
      ],
      "metadata": {
        "colab": {
          "base_uri": "https://localhost:8080/"
        },
        "id": "ngq2qA6QWkel",
        "outputId": "95a1d17c-71b4-4ad4-da34-5797bf36f927"
      },
      "execution_count": null,
      "outputs": [
        {
          "output_type": "stream",
          "name": "stdout",
          "text": [
            "Requirement already satisfied: datasets in /usr/local/lib/python3.10/dist-packages (2.19.0)\n",
            "Requirement already satisfied: filelock in /usr/local/lib/python3.10/dist-packages (from datasets) (3.13.4)\n",
            "Requirement already satisfied: numpy>=1.17 in /usr/local/lib/python3.10/dist-packages (from datasets) (1.25.2)\n",
            "Requirement already satisfied: pyarrow>=12.0.0 in /usr/local/lib/python3.10/dist-packages (from datasets) (14.0.2)\n",
            "Requirement already satisfied: pyarrow-hotfix in /usr/local/lib/python3.10/dist-packages (from datasets) (0.6)\n",
            "Requirement already satisfied: dill<0.3.9,>=0.3.0 in /usr/local/lib/python3.10/dist-packages (from datasets) (0.3.8)\n",
            "Requirement already satisfied: pandas in /usr/local/lib/python3.10/dist-packages (from datasets) (2.0.3)\n",
            "Requirement already satisfied: requests>=2.19.0 in /usr/local/lib/python3.10/dist-packages (from datasets) (2.31.0)\n",
            "Requirement already satisfied: tqdm>=4.62.1 in /usr/local/lib/python3.10/dist-packages (from datasets) (4.66.2)\n",
            "Requirement already satisfied: xxhash in /usr/local/lib/python3.10/dist-packages (from datasets) (3.4.1)\n",
            "Requirement already satisfied: multiprocess in /usr/local/lib/python3.10/dist-packages (from datasets) (0.70.16)\n",
            "Requirement already satisfied: fsspec[http]<=2024.3.1,>=2023.1.0 in /usr/local/lib/python3.10/dist-packages (from datasets) (2023.6.0)\n",
            "Requirement already satisfied: aiohttp in /usr/local/lib/python3.10/dist-packages (from datasets) (3.9.5)\n",
            "Requirement already satisfied: huggingface-hub>=0.21.2 in /usr/local/lib/python3.10/dist-packages (from datasets) (0.22.2)\n",
            "Requirement already satisfied: packaging in /usr/local/lib/python3.10/dist-packages (from datasets) (24.0)\n",
            "Requirement already satisfied: pyyaml>=5.1 in /usr/local/lib/python3.10/dist-packages (from datasets) (6.0.1)\n",
            "Requirement already satisfied: aiosignal>=1.1.2 in /usr/local/lib/python3.10/dist-packages (from aiohttp->datasets) (1.3.1)\n",
            "Requirement already satisfied: attrs>=17.3.0 in /usr/local/lib/python3.10/dist-packages (from aiohttp->datasets) (23.2.0)\n",
            "Requirement already satisfied: frozenlist>=1.1.1 in /usr/local/lib/python3.10/dist-packages (from aiohttp->datasets) (1.4.1)\n",
            "Requirement already satisfied: multidict<7.0,>=4.5 in /usr/local/lib/python3.10/dist-packages (from aiohttp->datasets) (6.0.5)\n",
            "Requirement already satisfied: yarl<2.0,>=1.0 in /usr/local/lib/python3.10/dist-packages (from aiohttp->datasets) (1.9.4)\n",
            "Requirement already satisfied: async-timeout<5.0,>=4.0 in /usr/local/lib/python3.10/dist-packages (from aiohttp->datasets) (4.0.3)\n",
            "Requirement already satisfied: typing-extensions>=3.7.4.3 in /usr/local/lib/python3.10/dist-packages (from huggingface-hub>=0.21.2->datasets) (4.11.0)\n",
            "Requirement already satisfied: charset-normalizer<4,>=2 in /usr/local/lib/python3.10/dist-packages (from requests>=2.19.0->datasets) (3.3.2)\n",
            "Requirement already satisfied: idna<4,>=2.5 in /usr/local/lib/python3.10/dist-packages (from requests>=2.19.0->datasets) (3.7)\n",
            "Requirement already satisfied: urllib3<3,>=1.21.1 in /usr/local/lib/python3.10/dist-packages (from requests>=2.19.0->datasets) (2.0.7)\n",
            "Requirement already satisfied: certifi>=2017.4.17 in /usr/local/lib/python3.10/dist-packages (from requests>=2.19.0->datasets) (2024.2.2)\n",
            "Requirement already satisfied: python-dateutil>=2.8.2 in /usr/local/lib/python3.10/dist-packages (from pandas->datasets) (2.8.2)\n",
            "Requirement already satisfied: pytz>=2020.1 in /usr/local/lib/python3.10/dist-packages (from pandas->datasets) (2023.4)\n",
            "Requirement already satisfied: tzdata>=2022.1 in /usr/local/lib/python3.10/dist-packages (from pandas->datasets) (2024.1)\n",
            "Requirement already satisfied: six>=1.5 in /usr/local/lib/python3.10/dist-packages (from python-dateutil>=2.8.2->pandas->datasets) (1.16.0)\n",
            "Requirement already satisfied: evaluate in /usr/local/lib/python3.10/dist-packages (0.4.1)\n",
            "Requirement already satisfied: datasets>=2.0.0 in /usr/local/lib/python3.10/dist-packages (from evaluate) (2.19.0)\n",
            "Requirement already satisfied: numpy>=1.17 in /usr/local/lib/python3.10/dist-packages (from evaluate) (1.25.2)\n",
            "Requirement already satisfied: dill in /usr/local/lib/python3.10/dist-packages (from evaluate) (0.3.8)\n",
            "Requirement already satisfied: pandas in /usr/local/lib/python3.10/dist-packages (from evaluate) (2.0.3)\n",
            "Requirement already satisfied: requests>=2.19.0 in /usr/local/lib/python3.10/dist-packages (from evaluate) (2.31.0)\n",
            "Requirement already satisfied: tqdm>=4.62.1 in /usr/local/lib/python3.10/dist-packages (from evaluate) (4.66.2)\n",
            "Requirement already satisfied: xxhash in /usr/local/lib/python3.10/dist-packages (from evaluate) (3.4.1)\n",
            "Requirement already satisfied: multiprocess in /usr/local/lib/python3.10/dist-packages (from evaluate) (0.70.16)\n",
            "Requirement already satisfied: fsspec[http]>=2021.05.0 in /usr/local/lib/python3.10/dist-packages (from evaluate) (2023.6.0)\n",
            "Requirement already satisfied: huggingface-hub>=0.7.0 in /usr/local/lib/python3.10/dist-packages (from evaluate) (0.22.2)\n",
            "Requirement already satisfied: packaging in /usr/local/lib/python3.10/dist-packages (from evaluate) (24.0)\n",
            "Requirement already satisfied: responses<0.19 in /usr/local/lib/python3.10/dist-packages (from evaluate) (0.18.0)\n",
            "Requirement already satisfied: filelock in /usr/local/lib/python3.10/dist-packages (from datasets>=2.0.0->evaluate) (3.13.4)\n",
            "Requirement already satisfied: pyarrow>=12.0.0 in /usr/local/lib/python3.10/dist-packages (from datasets>=2.0.0->evaluate) (14.0.2)\n",
            "Requirement already satisfied: pyarrow-hotfix in /usr/local/lib/python3.10/dist-packages (from datasets>=2.0.0->evaluate) (0.6)\n",
            "Requirement already satisfied: aiohttp in /usr/local/lib/python3.10/dist-packages (from datasets>=2.0.0->evaluate) (3.9.5)\n",
            "Requirement already satisfied: pyyaml>=5.1 in /usr/local/lib/python3.10/dist-packages (from datasets>=2.0.0->evaluate) (6.0.1)\n",
            "Requirement already satisfied: typing-extensions>=3.7.4.3 in /usr/local/lib/python3.10/dist-packages (from huggingface-hub>=0.7.0->evaluate) (4.11.0)\n",
            "Requirement already satisfied: charset-normalizer<4,>=2 in /usr/local/lib/python3.10/dist-packages (from requests>=2.19.0->evaluate) (3.3.2)\n",
            "Requirement already satisfied: idna<4,>=2.5 in /usr/local/lib/python3.10/dist-packages (from requests>=2.19.0->evaluate) (3.7)\n",
            "Requirement already satisfied: urllib3<3,>=1.21.1 in /usr/local/lib/python3.10/dist-packages (from requests>=2.19.0->evaluate) (2.0.7)\n",
            "Requirement already satisfied: certifi>=2017.4.17 in /usr/local/lib/python3.10/dist-packages (from requests>=2.19.0->evaluate) (2024.2.2)\n",
            "Requirement already satisfied: python-dateutil>=2.8.2 in /usr/local/lib/python3.10/dist-packages (from pandas->evaluate) (2.8.2)\n",
            "Requirement already satisfied: pytz>=2020.1 in /usr/local/lib/python3.10/dist-packages (from pandas->evaluate) (2023.4)\n",
            "Requirement already satisfied: tzdata>=2022.1 in /usr/local/lib/python3.10/dist-packages (from pandas->evaluate) (2024.1)\n",
            "Requirement already satisfied: aiosignal>=1.1.2 in /usr/local/lib/python3.10/dist-packages (from aiohttp->datasets>=2.0.0->evaluate) (1.3.1)\n",
            "Requirement already satisfied: attrs>=17.3.0 in /usr/local/lib/python3.10/dist-packages (from aiohttp->datasets>=2.0.0->evaluate) (23.2.0)\n",
            "Requirement already satisfied: frozenlist>=1.1.1 in /usr/local/lib/python3.10/dist-packages (from aiohttp->datasets>=2.0.0->evaluate) (1.4.1)\n",
            "Requirement already satisfied: multidict<7.0,>=4.5 in /usr/local/lib/python3.10/dist-packages (from aiohttp->datasets>=2.0.0->evaluate) (6.0.5)\n",
            "Requirement already satisfied: yarl<2.0,>=1.0 in /usr/local/lib/python3.10/dist-packages (from aiohttp->datasets>=2.0.0->evaluate) (1.9.4)\n",
            "Requirement already satisfied: async-timeout<5.0,>=4.0 in /usr/local/lib/python3.10/dist-packages (from aiohttp->datasets>=2.0.0->evaluate) (4.0.3)\n",
            "Requirement already satisfied: six>=1.5 in /usr/local/lib/python3.10/dist-packages (from python-dateutil>=2.8.2->pandas->evaluate) (1.16.0)\n",
            "2024-04-27 14:04:36.296707: E external/local_xla/xla/stream_executor/cuda/cuda_dnn.cc:9261] Unable to register cuDNN factory: Attempting to register factory for plugin cuDNN when one has already been registered\n",
            "2024-04-27 14:04:36.296761: E external/local_xla/xla/stream_executor/cuda/cuda_fft.cc:607] Unable to register cuFFT factory: Attempting to register factory for plugin cuFFT when one has already been registered\n",
            "2024-04-27 14:04:36.298077: E external/local_xla/xla/stream_executor/cuda/cuda_blas.cc:1515] Unable to register cuBLAS factory: Attempting to register factory for plugin cuBLAS when one has already been registered\n",
            "2024-04-27 14:04:37.499172: W tensorflow/compiler/tf2tensorrt/utils/py_utils.cc:38] TF-TRT Warning: Could not find TensorRT\n",
            "04/27/2024 14:04:39 - WARNING - __main__ - Process rank: 0, device: cuda:0, n_gpu: 1distributed training: True, 16-bits training: False\n",
            "/usr/local/lib/python3.10/dist-packages/datasets/load.py:2547: FutureWarning: 'use_auth_token' was deprecated in favor of 'token' in version 2.14.0 and will be removed in 3.0.0.\n",
            "You can remove this warning by passing 'token=<use_auth_token>' instead.\n",
            "  warnings.warn(\n",
            "Generating train split: 2856 examples [00:00, 41657.01 examples/s]\n",
            "Generating validation split: 2856 examples [00:00, 71328.64 examples/s]\n",
            "[WARNING|logging.py:314] 2024-04-27 14:04:43,024 >> Special tokens have been added in the vocabulary, make sure the associated word embeddings are fine-tuned or trained.\n",
            "[WARNING|logging.py:314] 2024-04-27 14:04:43,112 >> Special tokens have been added in the vocabulary, make sure the associated word embeddings are fine-tuned or trained.\n",
            "/usr/local/lib/python3.10/dist-packages/multiprocess/popen_fork.py:66: RuntimeWarning: os.fork() was called. os.fork() is incompatible with multithreaded code, and JAX is multithreaded, so this will likely lead to a deadlock.\n",
            "  self.pid = os.fork()\n",
            "Running tokenizer on dataset (num_proc=4):   0% 0/2856 [00:00<?, ? examples/s][WARNING|tokenization_utils_base.py:3896] 2024-04-27 14:05:11,606 >> Token indices sequence length is longer than the specified maximum sequence length for this model (1288 > 1024). Running this sequence through the model will result in indexing errors\n",
            "[WARNING|run_clm.py:411] 2024-04-27 14:05:11,607 >> ^^^^^^^^^^^^^^^^ Please ignore the warning above - this long input will be chunked into smaller bits before being passed to the model.\n",
            "Running tokenizer on dataset (num_proc=4):  25% 714/2856 [00:01<00:05, 389.24 examples/s][WARNING|tokenization_utils_base.py:3896] 2024-04-27 14:05:12,085 >> Token indices sequence length is longer than the specified maximum sequence length for this model (1098 > 1024). Running this sequence through the model will result in indexing errors\n",
            "[WARNING|run_clm.py:411] 2024-04-27 14:05:12,086 >> ^^^^^^^^^^^^^^^^ Please ignore the warning above - this long input will be chunked into smaller bits before being passed to the model.\n",
            "[WARNING|tokenization_utils_base.py:3896] 2024-04-27 14:05:12,139 >> Token indices sequence length is longer than the specified maximum sequence length for this model (1060 > 1024). Running this sequence through the model will result in indexing errors\n",
            "[WARNING|run_clm.py:411] 2024-04-27 14:05:12,140 >> ^^^^^^^^^^^^^^^^ Please ignore the warning above - this long input will be chunked into smaller bits before being passed to the model.\n",
            "Running tokenizer on dataset (num_proc=4):  50% 1428/2856 [00:02<00:01, 735.84 examples/s][WARNING|tokenization_utils_base.py:3896] 2024-04-27 14:05:12,403 >> Token indices sequence length is longer than the specified maximum sequence length for this model (1052 > 1024). Running this sequence through the model will result in indexing errors\n",
            "[WARNING|run_clm.py:411] 2024-04-27 14:05:12,403 >> ^^^^^^^^^^^^^^^^ Please ignore the warning above - this long input will be chunked into smaller bits before being passed to the model.\n",
            "Running tokenizer on dataset (num_proc=4): 100% 2856/2856 [00:02<00:00, 1150.93 examples/s]\n",
            "Running tokenizer on dataset (num_proc=4):   0% 0/2856 [00:00<?, ? examples/s][WARNING|tokenization_utils_base.py:3896] 2024-04-27 14:05:14,518 >> Token indices sequence length is longer than the specified maximum sequence length for this model (1288 > 1024). Running this sequence through the model will result in indexing errors\n",
            "[WARNING|run_clm.py:411] 2024-04-27 14:05:14,526 >> ^^^^^^^^^^^^^^^^ Please ignore the warning above - this long input will be chunked into smaller bits before being passed to the model.\n",
            "[WARNING|tokenization_utils_base.py:3896] 2024-04-27 14:05:14,814 >> Token indices sequence length is longer than the specified maximum sequence length for this model (1060 > 1024). Running this sequence through the model will result in indexing errors\n",
            "[WARNING|run_clm.py:411] 2024-04-27 14:05:14,816 >> ^^^^^^^^^^^^^^^^ Please ignore the warning above - this long input will be chunked into smaller bits before being passed to the model.\n",
            "Running tokenizer on dataset (num_proc=4):  25% 714/2856 [00:02<00:06, 355.74 examples/s][WARNING|tokenization_utils_base.py:3896] 2024-04-27 14:05:14,884 >> Token indices sequence length is longer than the specified maximum sequence length for this model (1098 > 1024). Running this sequence through the model will result in indexing errors\n",
            "[WARNING|run_clm.py:411] 2024-04-27 14:05:14,885 >> ^^^^^^^^^^^^^^^^ Please ignore the warning above - this long input will be chunked into smaller bits before being passed to the model.\n",
            "[WARNING|tokenization_utils_base.py:3896] 2024-04-27 14:05:14,978 >> Token indices sequence length is longer than the specified maximum sequence length for this model (1052 > 1024). Running this sequence through the model will result in indexing errors\n",
            "[WARNING|run_clm.py:411] 2024-04-27 14:05:14,979 >> ^^^^^^^^^^^^^^^^ Please ignore the warning above - this long input will be chunked into smaller bits before being passed to the model.\n",
            "Running tokenizer on dataset (num_proc=4): 100% 2856/2856 [00:02<00:00, 1168.06 examples/s]\n",
            "Grouping texts in chunks of 512 (num_proc=4): 100% 2856/2856 [00:01<00:00, 2051.11 examples/s]\n",
            "Grouping texts in chunks of 512 (num_proc=4): 100% 2856/2856 [00:01<00:00, 2195.42 examples/s]\n",
            "{'train_runtime': 795.9061, 'train_samples_per_second': 6.359, 'train_steps_per_second': 0.396, 'train_loss': 2.3360103546626982, 'epoch': 2.99}\n",
            "100% 315/315 [13:15<00:00,  2.53s/it]\n",
            "***** train metrics *****\n",
            "  epoch                    =     2.9858\n",
            "  total_flos               =  1225983GF\n",
            "  train_loss               =      2.336\n",
            "  train_runtime            = 0:13:15.90\n",
            "  train_samples            =       1687\n",
            "  train_samples_per_second =      6.359\n",
            "  train_steps_per_second   =      0.396\n"
          ]
        }
      ]
    },
    {
      "cell_type": "markdown",
      "source": [
        "#Loading the checkpoint for inference"
      ],
      "metadata": {
        "id": "TBOx1ei1v_hf"
      }
    },
    {
      "cell_type": "code",
      "source": [
        "checkpoint_dir = '/content/drive/MyDrive/miniproject/logs_26042024'\n",
        "\n",
        "model = GPT2LMHeadModel.from_pretrained(checkpoint_dir).to(device)\n",
        "tokenizer = GPT2Tokenizer.from_pretrained(checkpoint_dir)"
      ],
      "metadata": {
        "colab": {
          "base_uri": "https://localhost:8080/"
        },
        "id": "sRS8DI8-XtDc",
        "outputId": "8e75eb30-1b24-45b2-e562-c474dd89aa82"
      },
      "execution_count": null,
      "outputs": [
        {
          "output_type": "stream",
          "name": "stderr",
          "text": [
            "Special tokens have been added in the vocabulary, make sure the associated word embeddings are fine-tuned or trained.\n"
          ]
        }
      ]
    },
    {
      "cell_type": "code",
      "source": [
        "# Memorize special tokens IDs\n",
        "vocab = tokenizer.get_vocab()\n",
        "id0, id1, id2, id3 = vocab['@@Q_START@@'], vocab['@@Q_END@@'], vocab['@@A_START@@'], vocab['@@A_END@@']\n",
        "id0, id1, id2, id3"
      ],
      "metadata": {
        "colab": {
          "base_uri": "https://localhost:8080/"
        },
        "id": "zISI8gZldGuG",
        "outputId": "2e4f90c1-d847-45ee-e58c-ec3b74d61df3"
      },
      "execution_count": null,
      "outputs": [
        {
          "output_type": "execute_result",
          "data": {
            "text/plain": [
              "(50257, 50258, 50259, 50260)"
            ]
          },
          "metadata": {},
          "execution_count": 6
        }
      ]
    },
    {
      "cell_type": "markdown",
      "source": [
        "#Inference on finetuned model"
      ],
      "metadata": {
        "id": "kOxxT8eowHFw"
      }
    },
    {
      "cell_type": "code",
      "source": [
        "input_text = ['What are the uses of baclofen?',\n",
        "              'What are the precautions for rabies vaccine?',\n",
        "              'What are side effects of b-complex?',\n",
        "              'How to use bacitracin?',\n",
        "              'What are the uses of calamine?',\n",
        "              'What are the side effects of ear drops?',\n",
        "              'What should be used for gas relief?',\n",
        "              'What is interaction of pain relief medicine?',\n",
        "              'What are the uses of valine?',\n",
        "              'How to use vanacof?',\n",
        "              'What are the side effects of xanax?']\n",
        "\n",
        "for t in input_text:\n",
        "\n",
        "    inputs = tokenizer(f'@@Q_START@@ {t} @@Q_END@@ @@A_START@@',\n",
        "                       return_tensors='pt').to(device)\n",
        "\n",
        "    generated = model.generate(**inputs,\n",
        "                               top_p=0.7,\n",
        "                               temperature=0.5,\n",
        "                               do_sample=True,\n",
        "                               eos_token_id=id3,\n",
        "                               repetition_penalty=4.0,\n",
        "                               max_length=100)\n",
        "\n",
        "    generated = tokenizer.batch_decode(generated)[0]\n",
        "    answer = re.search('@@A_START@@(.*)', generated).group(1)\n",
        "    answer = re.sub('@@A_END@@', '', answer)\n",
        "\n",
        "    print(f'QUESTION: {t}\\nANSWER: {answer}', end='\\n')"
      ],
      "metadata": {
        "colab": {
          "base_uri": "https://localhost:8080/"
        },
        "id": "M5B81MuWd7_-",
        "outputId": "052560ec-10a5-4fe7-f3b3-788302308ea2"
      },
      "execution_count": null,
      "outputs": [
        {
          "output_type": "stream",
          "name": "stderr",
          "text": [
            "Setting `pad_token_id` to `eos_token_id`:50260 for open-end generation.\n",
            "Setting `pad_token_id` to `eos_token_id`:50260 for open-end generation.\n"
          ]
        },
        {
          "output_type": "stream",
          "name": "stdout",
          "text": [
            "QUESTION: What are the uses of baclofen?\n",
            "ANSWER:   BACLOFEN is used to treat a certain type ( chronic obstructive pulmonary disease ) that affects breathing and heart rhythm. It works by blocking an enzyme called angiotensin II receptor. The effect on blood flow may be temporary or permanent, depending upon how well you breathe, your condition/treatment response in combination with other medications such as antihistamines / antacids like ciprofloxifene ; alcohol; drugs for sleepiness -such among others). Some conditions can worsen if they do not get better within 2 weeks after treatment because symptoms disappear without warning from those who have them at least 3 months later than usual due either worsening coughs caused during therapy(including frequent chest pain ), difficulty sleeping while using medication it doesn't work right away but will last through high doses even when needed.(See also Side Effects section.) This drug passes into breast milk unless otherwise directed specifically about its use before breastfeeding\n"
          ]
        },
        {
          "output_type": "stream",
          "name": "stderr",
          "text": [
            "Setting `pad_token_id` to `eos_token_id`:50260 for open-end generation.\n"
          ]
        },
        {
          "output_type": "stream",
          "name": "stdout",
          "text": [
            "QUESTION: What are the precautions for rabies vaccine?\n",
            "ANSWER:   Before taking rbv-15, tell your doctor or pharmacist if you have any new allergies. Rabie may contain inactive ingredients (such as soy products), which can cause allergic reactions. Talk to a health care professional about using lab tests safely and use reliable household items suchas toothbrushes, syringes/sprayers /rubbers because they work well together with saliva removal tablets that should be used only when clearly needed by mouth; especially during pregnancy unless directed otherwise in writing from an allergist before giving birth ; breastfeeding is not recommended while wearing this drug at all times since it increases risk of side effects including stomach upset caused due diarrhea lasting more than 2 days after stopping treatment without warning symptoms like vomiting ), difficulty urinating on day 7(8) but also unusual vaginal bleeding problems later into labor where there's no clear sign until 3 weeks postpartum - usually 4 months following delivery even though most women will\n"
          ]
        },
        {
          "output_type": "stream",
          "name": "stderr",
          "text": [
            "Setting `pad_token_id` to `eos_token_id`:50260 for open-end generation.\n"
          ]
        },
        {
          "output_type": "stream",
          "name": "stdout",
          "text": [
            "QUESTION: What are side effects of b-complex?\n",
            "ANSWER:   Side Effects may include: nausea, vomiting / abdominal pain, dizziness. If you have any other symptoms (such as confusion or drowsing), get medical help right away. Tell your doctor if these problems occur while using this drug : diarrhea lasting more than 2 days after taking the medication; stomach upset that lasts for at least 3 hours before it wears off and/or worsening with each dose ; difficulty urinating due to enlarged prostate gland syndrome caused by a certain gene deficiency - an inherited condition known in some people who also develop cancerous tumors from chemotherapy treatment(s). This effect can happen when one cell is damaged during surgery but not enough cells remain healthy so they cannot be \n"
          ]
        },
        {
          "output_type": "stream",
          "name": "stderr",
          "text": [
            "Setting `pad_token_id` to `eos_token_id`:50260 for open-end generation.\n"
          ]
        },
        {
          "output_type": "stream",
          "name": "stdout",
          "text": [
            "QUESTION: How to use bacitracin?\n",
            "ANSWER:   Baciton is used as a laxative for pain and fever. It works by slowing down the body's natural production of certain hormones, making you more sensitive/excited. BACITRICA MAKES YOU DRINK MORE FABRICATED Lotion If your condition lasts or gets worse, consult an experienced doctor before using this drug (see also Warning section). Before having surgery on any bone marrow cell in order not get injured from it; tell doctors right away if symptoms do occur while taking bisphosphonates ;and after treatment with acetaminophen / acetazolamide antibiotics such at least 2 weeks apart unless directed otherwise during therapy(s) that may be performed safely under normal medical conditions.(See Also Precautions sections.) Tell all family members about how long each dose should take so they can discuss risks & benefits carefully when planning future treatmentsWith these precautions taken regularly throughout pregnancy - especially breastfeeding due rarely\n"
          ]
        },
        {
          "output_type": "stream",
          "name": "stderr",
          "text": [
            "Setting `pad_token_id` to `eos_token_id`:50260 for open-end generation.\n"
          ]
        },
        {
          "output_type": "stream",
          "name": "stdout",
          "text": [
            "QUESTION: What are the uses of calamine?\n",
            "ANSWER:   Calamate is used to treat or prevent seizures. It works by increasing your body's natural balance and decreasing seizure symptoms.Calamazepine belongs in a class called \"antabuse\" drugs that have not been shown safe for human consumption, but may be taken as directed on label directions (see also Drug Interactions section). Some products with similar names include: carisoprodol, cyclobenzaprine ; phenytoin; rifamycins such among others - all contain different types/absences(s)of these substances which can cause confusion when they interact properly without causing side effects / problems during treatment-resistant epilepsy due otherwise caused through an imbalance between certain hormones found inside brain cells.(See Also Warning Section.) If you take this drug while using other medications known at least temporarily relief from anxiety disorders like alprazoside 2 mg capsule anticonvulsants eg ibuprofen 0 %\n"
          ]
        },
        {
          "output_type": "stream",
          "name": "stderr",
          "text": [
            "Setting `pad_token_id` to `eos_token_id`:50260 for open-end generation.\n"
          ]
        },
        {
          "output_type": "stream",
          "name": "stdout",
          "text": [
            "QUESTION: What are the side effects of ear drops?\n",
            "ANSWER:   Side Effects may include: dizziness, headache / nausea. If you have trouble speaking, stop taking your medication. Do not drive or use machinery unless directed by a doctor (such as using special equipment suchas an emergency brake). Talk to family and/or health care professionals if symptoms occur while driving without clear vision in areas where there is low light pollution from cell phone radiation treatment including nearsightedness - hearing loss due only when exposed through clothing that has been cut off during contact with people who wear glasses because they do get sick(s) wearing them.(See also Precautions section.) Before having surgery for any condition lasting more than 2 weeks after stopping oral contraceptives it helps be sure all parts work well before beginning hormonal birth control treatments like patch-and ring products used on women younger then 18 years old but older adults since many procedures need reliable backup contraception methods until their period begins again within 4 months following ovulation.* Some conditions\n"
          ]
        },
        {
          "output_type": "stream",
          "name": "stderr",
          "text": [
            "Setting `pad_token_id` to `eos_token_id`:50260 for open-end generation.\n"
          ]
        },
        {
          "output_type": "stream",
          "name": "stdout",
          "text": [
            "QUESTION: What should be used for gas relief?\n",
            "ANSWER:   Gas Relief If you are using a liquid form of water, do not use it with any other medication or chewable tablet. Liquid forms may contain sugar and/or alcohol. Do NOT mix the tablets in your mouth while taking this drug unless directed by an FDA doctor (see also Warning section). Before having surgery, tell doctors if there is swelling on one side /left eye after treatment has finished; when that happens they will mark another area to check regularly because these areas can become swollen during removal from skin treatments such as razors - ring-capped rosaries ; certain conditions cause temporary blindness due only temporarily To prevent infection caused through contact lenses made over time into children's eyeshadows(such dyes), wash hands thoroughly before handling all affected products until symptoms disappear within 2 weeks without returning them completely clean.(See Also Precautions.) Tell health care workers about each brand available at home: allergy creams & sprays\n"
          ]
        },
        {
          "output_type": "stream",
          "name": "stderr",
          "text": [
            "Setting `pad_token_id` to `eos_token_id`:50260 for open-end generation.\n"
          ]
        },
        {
          "output_type": "stream",
          "name": "stdout",
          "text": [
            "QUESTION: What is interaction of pain relief medicine?\n",
            "ANSWER:   Interaction with Pain Relief Medicine Does Palforzia interact or interfere in any other drugs you are taking, including prescription/nonprescription medicines, non-steroidal antiinflammatory (NSAID), and herbal products that may cause allergic reactions such as coffee grounds /flour. Ask your doctor if these substances can harm a child. If using pafarqan 0 mg oral powder tablet for asthma treatment on an outpatient basis because symptoms do not improve after 6 months due to the medication's use(s) it should be used only when clearly needed by treating severe breathing problems caused during therapy sessions; otherwise this drug could worsen those conditions even more severely than usual unless directed specifically so.\"\n"
          ]
        },
        {
          "output_type": "stream",
          "name": "stderr",
          "text": [
            "Setting `pad_token_id` to `eos_token_id`:50260 for open-end generation.\n"
          ]
        },
        {
          "output_type": "stream",
          "name": "stdout",
          "text": [
            "QUESTION: What are the uses of valine?\n",
            "ANSWER:   Valines is used to treat certain types (such as glaucoma, cancer ) that may be caused by a genetic disease. It works similar in different ways and can help prevent or shorten your period. If you have any questions, ask doctor/surgeon about using it safely for an extended time without causing serious side effects such bleeding problems with blood loss / swelling from chemotherapy treatments due at least 2 weeks before treatment begins - usually 3 months after stopping drugs like cetirizumab; if this occurs while taking other medications containing lamotrigene antibiotics-tetracyclin 1 billion cell suspension solution(s) including carbamazepam ; tamsulone acetate inhibitors prescribed under medical conditions involving high fever symptoms lasting more than 24 hours unless otherwise directed on label directions within 48 hr following dose withdrawal because they do not work well when taken together during pregnancy). This drug passes into breast milk but should rarely occur\n"
          ]
        },
        {
          "output_type": "stream",
          "name": "stderr",
          "text": [
            "Setting `pad_token_id` to `eos_token_id`:50260 for open-end generation.\n"
          ]
        },
        {
          "output_type": "stream",
          "name": "stdout",
          "text": [
            "QUESTION: How to use vanacof?\n",
            "ANSWER:   VanAcOxygen is used as a natural supplement for the treatment of certain skin conditions (such eczema, psoriasis ). It works by reducing itching and irritation caused when you apply it. If your condition lasts or gets worse, get medical help right away if symptoms worsen. To decrease swelling/redness in those areas where they may be most likely affected: underarms /feet area; groin sore throat ; eye problems such acne scars from sun exposure that need protection before falling asleep(s). Use moisturizer regularly after applying this drug because dry patches can become discolored during drying out periods while using these products - especially at nighttime due not wearing protective clothing on time-use days like hot weather day 7 through 12 hours unless directed otherwise within 48 hr ahead notice with instructions regarding how long each dose should stay inside an appropriate container so there are no more red spots until later than 6 weeks old\n",
            "QUESTION: What are the side effects of xanax?\n",
            "ANSWER:   Side Effects may include: nausea, vomiting / diarrhea. If you have symptoms such as stomach pain or abdominal cramps, your doctor will need to make an appointment with a health care professional. Ask about other ways that XANAX can help relieve these problems (such by decreasing urine retention). Tell doctors right away if any signs change after taking this drug for more than 2 weeks and/or when it stops working well in children younger then 3 years old unless directed otherwise on medical advice from their pediatrician(s) before using phenytoin 10 mg oral capsule regularly during pregnancy through self-treating treatment programs like ACE inhibitors therapy plus anticonvulsants used at home insteadof drugs prescribed over time due drowsiness caused either direct eye contact because they do not work properly - dizzying behavior lasting longer while doing so), difficulty urinating without food; worsening urinary tract infections including Crohn's disease ; recurring vaginal\n"
          ]
        }
      ]
    },
    {
      "cell_type": "markdown",
      "source": [
        "#Inference on base model for comparison"
      ],
      "metadata": {
        "id": "SPQHWsDvwR6f"
      }
    },
    {
      "cell_type": "code",
      "source": [
        "base_model = GPT2LMHeadModel.from_pretrained(\"gpt2\")\n",
        "base_tokenizer = GPT2Tokenizer.from_pretrained(\"gpt2\")"
      ],
      "metadata": {
        "id": "iQPMZaMLmQWx"
      },
      "execution_count": null,
      "outputs": []
    },
    {
      "cell_type": "code",
      "source": [
        "#base_tokenizer.add_tokens(['@@Q_START@@', '@@Q_END@@', '@@A_START@@', '@@A_END@@'], special_tokens=True)"
      ],
      "metadata": {
        "id": "B3W_pQvpwm1Y"
      },
      "execution_count": null,
      "outputs": []
    },
    {
      "cell_type": "code",
      "source": [
        "input_text = ['What are the uses of baclofen?',\n",
        "              'What are the precautions for rabies vaccine?',\n",
        "              'What are side effects of b-complex?',\n",
        "              'How to use bacitracin?',\n",
        "              'What are the uses of calamine?',\n",
        "              'What are the side effects of ear drops?',\n",
        "              'What should be used for gas relief?',\n",
        "              'What is interaction of pain relief medicine?',\n",
        "              'What are the uses of valine?',\n",
        "              'How to use vanacof?',\n",
        "              'What are the side effects of xanax?']\n",
        "\n",
        "for t in input_text:\n",
        "\n",
        "    inputs = base_tokenizer(t,\n",
        "                       return_tensors='pt')\n",
        "\n",
        "    generated = base_model.generate(**inputs,\n",
        "                               top_p=0.7,\n",
        "                               temperature=0.5,\n",
        "                               do_sample=True,\n",
        "                               eos_token_id=id3,\n",
        "                               repetition_penalty=4.0,\n",
        "                               max_length=200)\n",
        "\n",
        "    generated = base_tokenizer.batch_decode(generated)[0]\n",
        "    # answer = re.search('@@A_START@@(.*)', generated).group(1)\n",
        "    # answer = re.sub('@@A_END@@', '', answer)\n",
        "\n",
        "    print(generated)"
      ],
      "metadata": {
        "colab": {
          "base_uri": "https://localhost:8080/"
        },
        "id": "D_aGdjfYwT_t",
        "outputId": "f5ab74f0-f9ed-4e47-e0f1-8df4c7b95289"
      },
      "execution_count": null,
      "outputs": [
        {
          "output_type": "stream",
          "name": "stderr",
          "text": [
            "Setting `pad_token_id` to `eos_token_id`:50260 for open-end generation.\n",
            "Setting `pad_token_id` to `eos_token_id`:50260 for open-end generation.\n"
          ]
        },
        {
          "output_type": "stream",
          "name": "stdout",
          "text": [
            "What are the uses of baclofen?\n",
            "A. Bacterial infections, such as those caused by bacteria or viruses that cause foodborne illness and can be transmitted to humans through contact with contaminated foods (such a person's own body), may result in serious health problems for some people who have been exposed but not others because they were infected from other sources including: exposure due directly into an airway; contamination resulting from being caught on camera during filming at home where there is no security risk associated With all these factors considered it should come down to whether you would consider using this product if your life depended upon its use over time A good safety record will help ensure any potential risks do occur The following products contain active ingredients which could pose significant hazards when used together In addition we recommend caution against handling them while under close supervision If taken without warning please take precautions before taking their contents out!<|endoftext|>The UESPWiki – Your source For information about Second Life modding see First Person Shooter Mod Development Wiki\n"
          ]
        },
        {
          "output_type": "stream",
          "name": "stderr",
          "text": [
            "Setting `pad_token_id` to `eos_token_id`:50260 for open-end generation.\n"
          ]
        },
        {
          "output_type": "stream",
          "name": "stdout",
          "text": [
            "What are the precautions for rabies vaccine?\n",
            "1. Vaccine safety and effectiveness: The best way to protect against a disease is by taking care of your own health, not others' or anyone else's needs (e-mail). You should be able talk with someone who has been vaccinated before you have any symptoms; it may take time but if they know what their condition means in terms that will help them make informed decisions about whether to get an injection at home instead as opposed on other days when there might otherwise still be complications from infection such like rash etc., then this can save some lives! 2) Use only safe vaccines – no one wants another person getting sick because he/she was exposed through exposure too much…it doesn't matter how good his immune system reacts so long ago unless we're talking more than just physical contact between people which could lead us into serious problems later down line 3.) Don´t give up hope until after vaccination - once all vaccinations go out I believe most\n"
          ]
        },
        {
          "output_type": "stream",
          "name": "stderr",
          "text": [
            "Setting `pad_token_id` to `eos_token_id`:50260 for open-end generation.\n"
          ]
        },
        {
          "output_type": "stream",
          "name": "stdout",
          "text": [
            "What are side effects of b-complex?\n",
            "The main effect is that the compound can cause a number and variety (e.g., muscle spasms, nausea) in some patients with BMD <5 mm Hj/L or >10 mg per day for up to 6 months after discontinuation [17]. The most common adverse event reported by this group was an increase on blood pressure; however it has been suggested that there may be other possible causes including: decreased appetite due either directly related inflammation caused through exercise training induced hyperglycemia during fasting periods as well Aspirin deficiency resulting from low levels found at baseline but not increased following treatment Withdrawal symptoms include headache associated pain similar throughout life Although these clinical signs have also recently become more prevalent among people who take aspirin daily they remain rare comparedwith those taking placebo In addition many studies suggest no significant difference between groups when using ciprofloxacins such olanzapine versus ibupropion which suggests their efficacy\n"
          ]
        },
        {
          "output_type": "stream",
          "name": "stderr",
          "text": [
            "Setting `pad_token_id` to `eos_token_id`:50260 for open-end generation.\n"
          ]
        },
        {
          "output_type": "stream",
          "name": "stdout",
          "text": [
            "How to use bacitracin?\n",
            "The BACITRICIN® is a non-steroidal antiinflammatory drug (NSAID) that can be used for the treatment of inflammatory bowel disease. It has been shown in clinical trials and as an adjuvant therapy against multiple sclerosis, Crohn's Disease, Parkinsonism/Pulmonary Fibrosis & Multiple Sclerosis [1]. The efficacy rate was evaluated by using two different methods: 1) Intravenous infusion with placebo or 3 mg orally daily; 2), oral administration alone without any other medication at baseline during follow up period after diagnosis ;3). In addition it had also demonstrated its ability on both acute versus chronic pain syndromes including glaucoma, ulcerative colitis etc., which were not associated wtihb side effects but could potentially cause more serious complications such cancer progression than aspirin. A study published last year found no evidence from randomized controlled studies suggesting adverse effect when administered intravenously compared\n"
          ]
        },
        {
          "output_type": "stream",
          "name": "stderr",
          "text": [
            "Setting `pad_token_id` to `eos_token_id`:50260 for open-end generation.\n"
          ]
        },
        {
          "output_type": "stream",
          "name": "stdout",
          "text": [
            "What are the uses of calamine?\n",
            "A: The main use is to treat pain and inflammation. It can also be used for treating a variety other ailments, such as arthritis or heart disease. Calamates have been shown in various forms by researchers who studied them extensively over many years (e-mail me at james@thedailybeast). I am not aware if there was any research on this topic before my book came out but it seems that some people may find these compounds useful when they need help with their chronic diseases like diabetes/diabetes etc...<|endoftext|>The first thing you'll notice about our new \"Flexible\" app will come from its simple interface which lets users easily adjust how much data each device consumes per second based upon your current usage patterns! This allows us more flexibility than ever previously possible - we're constantly improving Flexibility so please check back often – especially during busy times where most devices might require additional battery life due only one charge every 2 minutes!!\n"
          ]
        },
        {
          "output_type": "stream",
          "name": "stderr",
          "text": [
            "Setting `pad_token_id` to `eos_token_id`:50260 for open-end generation.\n"
          ]
        },
        {
          "output_type": "stream",
          "name": "stdout",
          "text": [
            "What are the side effects of ear drops?\n",
            "A: The first thing that comes to mind is a headache. It's like you're having an allergic reaction and it goes away, but then your nose gets redder because there isn't enough oxygen in those parts for them anymore so they start getting sicker every time I take one or two doses (the other day). So if my ears get sore from these things we have some sort \"cough\" coming on at night when all our hearing aids stop working properly.\"\n",
            "\n",
            "-Dr Richard Poulter<|endoftext|>This week marks 20 years since former President Bill Clinton was elected president by more than 50 million people across America who voted his way into office with their votes counted against him—and he won again! In this episode… Free View [Audio] Subscribe | RSS Feeds & More... Share This Episode On Facebook Tweet Pin Email Cancel Linkedin Reddit Google+ Whatsapp Tumblr linkedin stumble Digg reddit Newsvine Permalink https://pbs\n"
          ]
        },
        {
          "output_type": "stream",
          "name": "stderr",
          "text": [
            "Setting `pad_token_id` to `eos_token_id`:50260 for open-end generation.\n"
          ]
        },
        {
          "output_type": "stream",
          "name": "stdout",
          "text": [
            "What should be used for gas relief?\n",
            "A. Gas is a fuel that can provide electricity, water and power to the grid in many areas of South America or Asia where it's not available at home (e-commerce sites such as Amazon are particularly good places). However if you're looking into buying an electric car from another source then consider using your local utility instead: this will save money on bills by reducing maintenance costs while also providing more reliable service when needed during peak hours so long term reliability becomes important with any new vehicle purchase! Bicycles have been around since ancient times but they were never designed specifically towards use outdoors due their lack there range which means even though bikes could easily fit inside cars now we don't see them being made commercially viable yet because no one has built anything like these before…<|endoftext|>The following article was written last week after I received my first email about how much time had passed between writing The Big Bang Theory, its second season finale episode \"Sickening\".\n"
          ]
        },
        {
          "output_type": "stream",
          "name": "stderr",
          "text": [
            "Setting `pad_token_id` to `eos_token_id`:50260 for open-end generation.\n"
          ]
        },
        {
          "output_type": "stream",
          "name": "stdout",
          "text": [
            "What is interaction of pain relief medicine?\n",
            "The most common way to treat a chronic disease such as arthritis or heart failure, which can cause severe and debilitating symptoms like joint stiffness. The best treatment for these conditions are the traditional methods that have been used in many countries since ancient times: acupuncture (the practice of using needles on your joints), massage therapy (using an electric current through one's body) etc., but this method has its limitations because it requires you be able \"to feel\" something without having any experience with other types; there isn't much information available about how effective they actually do when applied properly so I won´t go into all details here! However if we look at some specific cases where people were treated successfully by conventional medical care then perhaps our understanding would change somewhat…\n",
            "\n",
            " There was also another case from India called 'Kamal' who had received his first injection after being diagnosed several years ago – he suffered no problems during surgery due simply not feeling well enough before receiving\n"
          ]
        },
        {
          "output_type": "stream",
          "name": "stderr",
          "text": [
            "Setting `pad_token_id` to `eos_token_id`:50260 for open-end generation.\n"
          ]
        },
        {
          "output_type": "stream",
          "name": "stdout",
          "text": [
            "What are the uses of valine?\n",
            "Avalines have a wide variety in their use, and many people find them useful for various purposes. The following list is intended to help you decide which ones will best suit your needs:<|endoftext|>The first time I saw this movie was at my local theater when it came out on DVD back then! It's one helluva thing that they did with \"Fantastic Four\" (the original film) but what really makes me think about these guys who made such an amazing set-up so far from all those other movies like Avatar or Star Wars...it just seems too much fun without being real good enough!! And now we're getting into some new stuff as well!!!\n",
            "\n",
            " I'm not going anywhere soon though because there isn't anything here yet - even if everyone else has seen/heard something before....but wait until next week where things get interesting.....and maybe see more pics :) __________________ Last edited by Dandy; 08th\n"
          ]
        },
        {
          "output_type": "stream",
          "name": "stderr",
          "text": [
            "Setting `pad_token_id` to `eos_token_id`:50260 for open-end generation.\n"
          ]
        },
        {
          "output_type": "stream",
          "name": "stdout",
          "text": [
            "How to use vanacof?\n",
            "The best way is by using a standard filter. A typical method for filtering out the unwanted noise in your car's exhaust system would be with an air compressor, but this will not work if you have one that has been used before and it does NOT need any special equipment (such as filters). You can also make some sort of \"filter\" from carbon fiber or other materials such Asbestos-free material like wood chips etc., which are very effective at reducing emissions when they come into contact directly on surfaces where there may already exist asbestos dust particles inside them:\n",
            "\n",
            "<|endoftext|>A few weeks ago I wrote about how much better we could do without Apple Pay than Google Wallet because now all payments made through our mobile apps require us access tokens instead! This makes sense since many people don't even know what their credit card number actually looks so most users just assume something else might look different depending upon whether someone uses NFC tags while driving around town…so why should anyone care\n",
            "What are the side effects of xanax?\n",
            "The main effect is that it makes you feel like your body has been turned upside down. It's not a good idea to take Xanthos and get into an argument with someone who doesn't know what they're talking about, because if something happens in their life or situation where there isn' any way out (like being diagnosed as having cancer), then I'm going mad at them for trying so hard! But once again this may be due mainly on my part: when people say \"xans\" - which means 'I've never seen anything before', but also mean things such Asperger syndrome/ASD etc., we usually have no clue how these conditions work; sometimes even worse than ASDs can cause serious brain damage... So let me explain why some folks might think yang-yang was just another name given by those suffering from autism spectrum disorder(s). The problem here comes back up after all : many autistic individuals suffer\n"
          ]
        }
      ]
    },
    {
      "cell_type": "markdown",
      "source": [
        "#Perplexity Score evalutaion of finetuned model"
      ],
      "metadata": {
        "id": "NasYDC91wabw"
      }
    },
    {
      "cell_type": "code",
      "source": [
        "# import torch\n",
        "# from transformers import GPT2LMHeadModel, GPT2Tokenizer\n",
        "\n",
        "def evaluate_perplexity(model, tokenizer, text):\n",
        "    # Add special tokens to the text\n",
        "    text_with_special_tokens = f'@@Q_START@@ {text} @@Q_END@@ @@A_START@@'\n",
        "\n",
        "    # Tokenize the text\n",
        "    input_ids = tokenizer.encode(text_with_special_tokens, return_tensors='pt').to(device)\n",
        "\n",
        "    # Generate logits from the model\n",
        "    with torch.no_grad():\n",
        "        logits = model(input_ids)[0]\n",
        "\n",
        "    # Compute softmax probabilities\n",
        "    softmax_logits = torch.softmax(logits, dim=-1)[0]\n",
        "\n",
        "    # Remove special tokens from input_ids and convert to list\n",
        "    token_ids = input_ids[0, 1:].squeeze().tolist()\n",
        "\n",
        "    # Compute log probabilities for the actual token ids\n",
        "    log_probs = torch.log(softmax_logits[range(len(token_ids)), token_ids])\n",
        "\n",
        "    # Compute perplexity\n",
        "    perplexity = torch.exp(-torch.sum(log_probs) / log_probs.shape[-1]).item()\n",
        "\n",
        "    return perplexity\n",
        "\n",
        "\n",
        "# Load fine-tuned GPT-2 model and tokenizer\n",
        "# model_name = \"your-finetuned-model-name\"\n",
        "# model = GPT2LMHeadModel.from_pretrained(model_name)\n",
        "# tokenizer = GPT2Tokenizer.from_pretrained(model_name)\n",
        "\n",
        "# Example text for evaluation\n",
        "input_text = ['What are the uses of baclofen?',\n",
        "              'What are the precautions for rabies vaccine?',\n",
        "              'What are side effects of b-complex?',\n",
        "              'How to use bacitracin?',\n",
        "              'What are the uses of calamine?',\n",
        "              'What are the side effects of ear drops?',\n",
        "              'What should be used for gas relief?',\n",
        "              'What is interaction of pain relief medicine?',\n",
        "              'What are the uses of valine?',\n",
        "              'How to use vanacof?',\n",
        "              'What are the side effects of xanax?']\n",
        "# model = GPT2LMHeadModel.from_pretrained(checkpoint_dir)\n",
        "# tokenizer = GPT2Tokenizer.from_pretrained(checkpoint_dir)\n",
        "# Evaluate perplexity\n",
        "for t in input_text:\n",
        "    perplexity = evaluate_perplexity(model, tokenizer, t)\n",
        "    print(\"Perplexity:\", perplexity)"
      ],
      "metadata": {
        "id": "iVmOUjFxwuZg",
        "colab": {
          "base_uri": "https://localhost:8080/"
        },
        "outputId": "8dd0cfe8-4f3c-47d1-ef2c-fe78dcd4aa98"
      },
      "execution_count": null,
      "outputs": [
        {
          "output_type": "stream",
          "name": "stdout",
          "text": [
            "Perplexity: 3.9826791286468506\n",
            "Perplexity: 11.150195121765137\n",
            "Perplexity: 14.743796348571777\n",
            "Perplexity: 5.1560139656066895\n",
            "Perplexity: 6.037504196166992\n",
            "Perplexity: 10.14511775970459\n",
            "Perplexity: 30.17329216003418\n",
            "Perplexity: 41.22710418701172\n",
            "Perplexity: 6.888851165771484\n",
            "Perplexity: 16.597122192382812\n",
            "Perplexity: 7.372170448303223\n"
          ]
        }
      ]
    },
    {
      "cell_type": "markdown",
      "source": [],
      "metadata": {
        "id": "plyHlBoewji3"
      }
    },
    {
      "cell_type": "markdown",
      "source": [
        "#Perplexity Score evaluation for base model"
      ],
      "metadata": {
        "id": "7Gyzg-WewjkL"
      }
    },
    {
      "cell_type": "code",
      "source": [
        "def evaluate_perplexity(model, tokenizer, text):\n",
        "    # Add special tokens to the text\n",
        "    text_with_special_tokens = f'@@Q_START@@ {text} @@Q_END@@ @@A_START@@'\n",
        "\n",
        "    # Tokenize the text\n",
        "    input_ids = tokenizer.encode(text_with_special_tokens, return_tensors='pt')\n",
        "\n",
        "    # Generate logits from the model\n",
        "    with torch.no_grad():\n",
        "        logits = model(input_ids)[0]\n",
        "\n",
        "    # Compute softmax probabilities\n",
        "    softmax_logits = torch.softmax(logits, dim=-1)[0]\n",
        "\n",
        "    # Remove special tokens from input_ids and convert to list\n",
        "    token_ids = input_ids[0, 1:].squeeze().tolist()\n",
        "\n",
        "    # Compute log probabilities for the actual token ids\n",
        "    log_probs = torch.log(softmax_logits[range(len(token_ids)), token_ids])\n",
        "\n",
        "    # Compute perplexity\n",
        "    perplexity = torch.exp(-torch.sum(log_probs) / log_probs.shape[-1]).item()\n",
        "\n",
        "    return perplexity\n",
        "\n",
        "for t in input_text:\n",
        "    perplexity = evaluate_perplexity(base_model, base_tokenizer, t)\n",
        "    print(\"Perplexity:\", perplexity)"
      ],
      "metadata": {
        "colab": {
          "base_uri": "https://localhost:8080/"
        },
        "id": "tRlU0qxvpBlx",
        "outputId": "8a1881f1-f022-41c3-a2d3-c3860f2c100d"
      },
      "execution_count": null,
      "outputs": [
        {
          "output_type": "stream",
          "name": "stdout",
          "text": [
            "Perplexity: 50.25851821899414\n",
            "Perplexity: 56.80854034423828\n",
            "Perplexity: 55.16973876953125\n",
            "Perplexity: 83.84107971191406\n",
            "Perplexity: 63.5296630859375\n",
            "Perplexity: 49.16680145263672\n",
            "Perplexity: 65.45885467529297\n",
            "Perplexity: 102.52810668945312\n",
            "Perplexity: 59.03614044189453\n",
            "Perplexity: 115.41448974609375\n",
            "Perplexity: 40.51702117919922\n"
          ]
        }
      ]
    },
    {
      "cell_type": "code",
      "source": [],
      "metadata": {
        "id": "tzgxrvQftYa4"
      },
      "execution_count": null,
      "outputs": []
    }
  ]
}